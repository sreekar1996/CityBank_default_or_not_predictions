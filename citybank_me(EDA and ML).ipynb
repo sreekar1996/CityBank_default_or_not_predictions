{
 "cells": [
  {
   "cell_type": "markdown",
   "metadata": {},
   "source": [
    "# Predicting whether Citibank customer is going to default\n",
    "## File descriptions:\n",
    "#### Y: Client's behavior (target); Y=0 then not default, Y=1 then default.\n",
    "#### X1 - Amount of the given credit (NT dollar): it includes both the individual consumer credit and his/her family             (supplementary) credit.\n",
    "#### X2 :Gender (1 = male; 2 = female)\n",
    "#### X3 : Education (1 = graduate school; 2 = university; 3 = high school; 0,4,5,6 = others)\n",
    "#### X4 : Marital status (1 = married; 2 = single; 3 = divorce; 0=others).\n",
    "#### X5 : Age (year)\n",
    "#### X6 : the repayment status in September, 2005;  \n",
    "#### X7 :the repayment status in August, 2005 . . .\n",
    "#### X11 : the repayment status in April, 2005. The measurement scale for the repayment status is: -2 = No           consumption; -1     =                      pay duly; ; 0: The use of revolving credit; 1 = payment delay for one month; 2 = payment  delay  for two months; . .   .; 8 =                        payment delay for eight months; 9 = payment delay for nine months and above\n",
    "#### X12 : amount of bill statement in September, 2005\n",
    "#### X13 : amount of bill statement in August, 2005; . . .\n",
    "#### X17 : amount of bill statement in April, 2005."
   ]
  },
  {
   "cell_type": "markdown",
   "metadata": {},
   "source": [
    "# Exploring and Processing Data"
   ]
  },
  {
   "cell_type": "code",
   "execution_count": 3,
   "metadata": {},
   "outputs": [],
   "source": [
    "#imports\n",
    "import numpy as np\n",
    "import pandas as pd\n",
    "from scipy.stats import zscore\n",
    "from sklearn.preprocessing import Imputer\n",
    "from sklearn.metrics import accuracy_score\n",
    "import seaborn as sns\n",
    "from imblearn.over_sampling import SMOTE\n",
    "from sklearn.tree import DecisionTreeClassifier\n",
    "from sklearn.neighbors import KNeighborsClassifier\n",
    "from scipy.stats import zscore\n",
    "from sklearn.preprocessing import Imputer\n",
    "from sklearn.metrics import accuracy_score\n",
    "from sklearn import metrics"
   ]
  },
  {
   "cell_type": "markdown",
   "metadata": {},
   "source": [
    "# import data"
   ]
  },
  {
   "cell_type": "code",
   "execution_count": 77,
   "metadata": {},
   "outputs": [],
   "source": [
    "data1=pd.read_csv(\"train_1.csv\")\n",
    "data2=pd.read_csv(\"train_2.csv\")\n",
    "fdata=pd.read_csv(\"train_3.csv\")\n",
    "test=pd.read_csv(\"test.csv\")"
   ]
  },
  {
   "cell_type": "code",
   "execution_count": 5,
   "metadata": {},
   "outputs": [
    {
     "data": {
      "text/plain": [
       "'C:\\\\Users\\\\sreekar chidurala\\\\Desktop\\\\kaggle projects\\\\week 5 city bank'"
      ]
     },
     "execution_count": 5,
     "metadata": {},
     "output_type": "execute_result"
    }
   ],
   "source": [
    "#to look at directory\n",
    "%pwd"
   ]
  },
  {
   "cell_type": "code",
   "execution_count": 78,
   "metadata": {},
   "outputs": [
    {
     "data": {
      "text/html": [
       "<div>\n",
       "<style scoped>\n",
       "    .dataframe tbody tr th:only-of-type {\n",
       "        vertical-align: middle;\n",
       "    }\n",
       "\n",
       "    .dataframe tbody tr th {\n",
       "        vertical-align: top;\n",
       "    }\n",
       "\n",
       "    .dataframe thead th {\n",
       "        text-align: right;\n",
       "    }\n",
       "</style>\n",
       "<table border=\"1\" class=\"dataframe\">\n",
       "  <thead>\n",
       "    <tr style=\"text-align: right;\">\n",
       "      <th></th>\n",
       "      <th>Ref.No</th>\n",
       "      <th>X1</th>\n",
       "      <th>X2</th>\n",
       "      <th>X3</th>\n",
       "      <th>X4</th>\n",
       "      <th>X5</th>\n",
       "      <th>X6</th>\n",
       "      <th>X7</th>\n",
       "      <th>Y</th>\n",
       "      <th>X8</th>\n",
       "      <th>...</th>\n",
       "      <th>X14</th>\n",
       "      <th>X15</th>\n",
       "      <th>X16</th>\n",
       "      <th>X17</th>\n",
       "      <th>X18</th>\n",
       "      <th>X19</th>\n",
       "      <th>X20</th>\n",
       "      <th>X21</th>\n",
       "      <th>X22</th>\n",
       "      <th>X23</th>\n",
       "    </tr>\n",
       "  </thead>\n",
       "  <tbody>\n",
       "    <tr>\n",
       "      <th>0</th>\n",
       "      <td>22203</td>\n",
       "      <td>320000</td>\n",
       "      <td>2</td>\n",
       "      <td>1</td>\n",
       "      <td>2</td>\n",
       "      <td>27</td>\n",
       "      <td>1</td>\n",
       "      <td>2</td>\n",
       "      <td>1</td>\n",
       "      <td>2</td>\n",
       "      <td>...</td>\n",
       "      <td>41370</td>\n",
       "      <td>40694</td>\n",
       "      <td>39606</td>\n",
       "      <td>38680</td>\n",
       "      <td>2000</td>\n",
       "      <td>1500</td>\n",
       "      <td>2000</td>\n",
       "      <td>1500</td>\n",
       "      <td>1500</td>\n",
       "      <td>0</td>\n",
       "    </tr>\n",
       "    <tr>\n",
       "      <th>1</th>\n",
       "      <td>1288</td>\n",
       "      <td>470000</td>\n",
       "      <td>1</td>\n",
       "      <td>2</td>\n",
       "      <td>1</td>\n",
       "      <td>41</td>\n",
       "      <td>-2</td>\n",
       "      <td>-2</td>\n",
       "      <td>0</td>\n",
       "      <td>-2</td>\n",
       "      <td>...</td>\n",
       "      <td>32463</td>\n",
       "      <td>20621</td>\n",
       "      <td>13711</td>\n",
       "      <td>8294</td>\n",
       "      <td>12300</td>\n",
       "      <td>32520</td>\n",
       "      <td>34</td>\n",
       "      <td>68</td>\n",
       "      <td>8334</td>\n",
       "      <td>45684</td>\n",
       "    </tr>\n",
       "    <tr>\n",
       "      <th>2</th>\n",
       "      <td>11822</td>\n",
       "      <td>20000</td>\n",
       "      <td>1</td>\n",
       "      <td>2</td>\n",
       "      <td>2</td>\n",
       "      <td>25</td>\n",
       "      <td>1</td>\n",
       "      <td>2</td>\n",
       "      <td>0</td>\n",
       "      <td>0</td>\n",
       "      <td>...</td>\n",
       "      <td>18921</td>\n",
       "      <td>19297</td>\n",
       "      <td>18926</td>\n",
       "      <td>17717</td>\n",
       "      <td>1264</td>\n",
       "      <td>1249</td>\n",
       "      <td>625</td>\n",
       "      <td>700</td>\n",
       "      <td>1000</td>\n",
       "      <td>1000</td>\n",
       "    </tr>\n",
       "    <tr>\n",
       "      <th>3</th>\n",
       "      <td>15085</td>\n",
       "      <td>80000</td>\n",
       "      <td>1</td>\n",
       "      <td>3</td>\n",
       "      <td>1</td>\n",
       "      <td>41</td>\n",
       "      <td>0</td>\n",
       "      <td>0</td>\n",
       "      <td>1</td>\n",
       "      <td>0</td>\n",
       "      <td>...</td>\n",
       "      <td>60311</td>\n",
       "      <td>62471</td>\n",
       "      <td>21071</td>\n",
       "      <td>2099</td>\n",
       "      <td>3008</td>\n",
       "      <td>3000</td>\n",
       "      <td>5000</td>\n",
       "      <td>10000</td>\n",
       "      <td>2099</td>\n",
       "      <td>0</td>\n",
       "    </tr>\n",
       "    <tr>\n",
       "      <th>4</th>\n",
       "      <td>6192</td>\n",
       "      <td>30000</td>\n",
       "      <td>1</td>\n",
       "      <td>1</td>\n",
       "      <td>2</td>\n",
       "      <td>30</td>\n",
       "      <td>1</td>\n",
       "      <td>-2</td>\n",
       "      <td>1</td>\n",
       "      <td>-2</td>\n",
       "      <td>...</td>\n",
       "      <td>0</td>\n",
       "      <td>0</td>\n",
       "      <td>0</td>\n",
       "      <td>0</td>\n",
       "      <td>0</td>\n",
       "      <td>0</td>\n",
       "      <td>0</td>\n",
       "      <td>0</td>\n",
       "      <td>0</td>\n",
       "      <td>0</td>\n",
       "    </tr>\n",
       "  </tbody>\n",
       "</table>\n",
       "<p>5 rows × 25 columns</p>\n",
       "</div>"
      ],
      "text/plain": [
       "   Ref.No      X1  X2  X3  X4  X5  X6  X7  Y  X8  ...      X14    X15    X16  \\\n",
       "0   22203  320000   2   1   2  27   1   2  1   2  ...    41370  40694  39606   \n",
       "1    1288  470000   1   2   1  41  -2  -2  0  -2  ...    32463  20621  13711   \n",
       "2   11822   20000   1   2   2  25   1   2  0   0  ...    18921  19297  18926   \n",
       "3   15085   80000   1   3   1  41   0   0  1   0  ...    60311  62471  21071   \n",
       "4    6192   30000   1   1   2  30   1  -2  1  -2  ...        0      0      0   \n",
       "\n",
       "     X17    X18    X19   X20    X21   X22    X23  \n",
       "0  38680   2000   1500  2000   1500  1500      0  \n",
       "1   8294  12300  32520    34     68  8334  45684  \n",
       "2  17717   1264   1249   625    700  1000   1000  \n",
       "3   2099   3008   3000  5000  10000  2099      0  \n",
       "4      0      0      0     0      0     0      0  \n",
       "\n",
       "[5 rows x 25 columns]"
      ]
     },
     "execution_count": 78,
     "metadata": {},
     "output_type": "execute_result"
    }
   ],
   "source": [
    "#merging data1 and data2\n",
    "dat=pd.merge(data1,data2)\n",
    "data=pd.merge(dat,fdata)\n",
    "data.head()"
   ]
  },
  {
   "cell_type": "code",
   "execution_count": 83,
   "metadata": {},
   "outputs": [
    {
     "data": {
      "text/html": [
       "<div>\n",
       "<style scoped>\n",
       "    .dataframe tbody tr th:only-of-type {\n",
       "        vertical-align: middle;\n",
       "    }\n",
       "\n",
       "    .dataframe tbody tr th {\n",
       "        vertical-align: top;\n",
       "    }\n",
       "\n",
       "    .dataframe thead th {\n",
       "        text-align: right;\n",
       "    }\n",
       "</style>\n",
       "<table border=\"1\" class=\"dataframe\">\n",
       "  <thead>\n",
       "    <tr style=\"text-align: right;\">\n",
       "      <th></th>\n",
       "      <th>Ref.N</th>\n",
       "      <th>total_credit</th>\n",
       "      <th>Gender</th>\n",
       "      <th>Education</th>\n",
       "      <th>Marital_status</th>\n",
       "      <th>Age</th>\n",
       "      <th>Sep2005_history</th>\n",
       "      <th>Aug2005_history</th>\n",
       "      <th>Behavior</th>\n",
       "      <th>july2005_history</th>\n",
       "      <th>...</th>\n",
       "      <th>Amt_july</th>\n",
       "      <th>Amt_june</th>\n",
       "      <th>Amt_may</th>\n",
       "      <th>Amt_aprl</th>\n",
       "      <th>prev_pay_sep</th>\n",
       "      <th>prev_pay_aug</th>\n",
       "      <th>prev_pay_july</th>\n",
       "      <th>prev_pay_june</th>\n",
       "      <th>prev_pay_may</th>\n",
       "      <th>prev_pay_aprl</th>\n",
       "    </tr>\n",
       "  </thead>\n",
       "  <tbody>\n",
       "    <tr>\n",
       "      <th>0</th>\n",
       "      <td>22203</td>\n",
       "      <td>320000</td>\n",
       "      <td>2</td>\n",
       "      <td>1</td>\n",
       "      <td>2</td>\n",
       "      <td>27</td>\n",
       "      <td>1</td>\n",
       "      <td>2</td>\n",
       "      <td>1</td>\n",
       "      <td>2</td>\n",
       "      <td>...</td>\n",
       "      <td>41370</td>\n",
       "      <td>40694</td>\n",
       "      <td>39606</td>\n",
       "      <td>38680</td>\n",
       "      <td>2000</td>\n",
       "      <td>1500</td>\n",
       "      <td>2000</td>\n",
       "      <td>1500</td>\n",
       "      <td>1500</td>\n",
       "      <td>0</td>\n",
       "    </tr>\n",
       "    <tr>\n",
       "      <th>1</th>\n",
       "      <td>1288</td>\n",
       "      <td>470000</td>\n",
       "      <td>1</td>\n",
       "      <td>2</td>\n",
       "      <td>1</td>\n",
       "      <td>41</td>\n",
       "      <td>-2</td>\n",
       "      <td>-2</td>\n",
       "      <td>0</td>\n",
       "      <td>-2</td>\n",
       "      <td>...</td>\n",
       "      <td>32463</td>\n",
       "      <td>20621</td>\n",
       "      <td>13711</td>\n",
       "      <td>8294</td>\n",
       "      <td>12300</td>\n",
       "      <td>32520</td>\n",
       "      <td>34</td>\n",
       "      <td>68</td>\n",
       "      <td>8334</td>\n",
       "      <td>45684</td>\n",
       "    </tr>\n",
       "    <tr>\n",
       "      <th>2</th>\n",
       "      <td>11822</td>\n",
       "      <td>20000</td>\n",
       "      <td>1</td>\n",
       "      <td>2</td>\n",
       "      <td>2</td>\n",
       "      <td>25</td>\n",
       "      <td>1</td>\n",
       "      <td>2</td>\n",
       "      <td>0</td>\n",
       "      <td>0</td>\n",
       "      <td>...</td>\n",
       "      <td>18921</td>\n",
       "      <td>19297</td>\n",
       "      <td>18926</td>\n",
       "      <td>17717</td>\n",
       "      <td>1264</td>\n",
       "      <td>1249</td>\n",
       "      <td>625</td>\n",
       "      <td>700</td>\n",
       "      <td>1000</td>\n",
       "      <td>1000</td>\n",
       "    </tr>\n",
       "    <tr>\n",
       "      <th>3</th>\n",
       "      <td>15085</td>\n",
       "      <td>80000</td>\n",
       "      <td>1</td>\n",
       "      <td>3</td>\n",
       "      <td>1</td>\n",
       "      <td>41</td>\n",
       "      <td>0</td>\n",
       "      <td>0</td>\n",
       "      <td>1</td>\n",
       "      <td>0</td>\n",
       "      <td>...</td>\n",
       "      <td>60311</td>\n",
       "      <td>62471</td>\n",
       "      <td>21071</td>\n",
       "      <td>2099</td>\n",
       "      <td>3008</td>\n",
       "      <td>3000</td>\n",
       "      <td>5000</td>\n",
       "      <td>10000</td>\n",
       "      <td>2099</td>\n",
       "      <td>0</td>\n",
       "    </tr>\n",
       "    <tr>\n",
       "      <th>4</th>\n",
       "      <td>6192</td>\n",
       "      <td>30000</td>\n",
       "      <td>1</td>\n",
       "      <td>1</td>\n",
       "      <td>2</td>\n",
       "      <td>30</td>\n",
       "      <td>1</td>\n",
       "      <td>-2</td>\n",
       "      <td>1</td>\n",
       "      <td>-2</td>\n",
       "      <td>...</td>\n",
       "      <td>0</td>\n",
       "      <td>0</td>\n",
       "      <td>0</td>\n",
       "      <td>0</td>\n",
       "      <td>0</td>\n",
       "      <td>0</td>\n",
       "      <td>0</td>\n",
       "      <td>0</td>\n",
       "      <td>0</td>\n",
       "      <td>0</td>\n",
       "    </tr>\n",
       "  </tbody>\n",
       "</table>\n",
       "<p>5 rows × 25 columns</p>\n",
       "</div>"
      ],
      "text/plain": [
       "   Ref.N  total_credit  Gender  Education  Marital_status  Age  \\\n",
       "0  22203        320000       2          1               2   27   \n",
       "1   1288        470000       1          2               1   41   \n",
       "2  11822         20000       1          2               2   25   \n",
       "3  15085         80000       1          3               1   41   \n",
       "4   6192         30000       1          1               2   30   \n",
       "\n",
       "   Sep2005_history  Aug2005_history  Behavior  july2005_history  \\\n",
       "0                1                2         1                 2   \n",
       "1               -2               -2         0                -2   \n",
       "2                1                2         0                 0   \n",
       "3                0                0         1                 0   \n",
       "4                1               -2         1                -2   \n",
       "\n",
       "       ...        Amt_july  Amt_june  Amt_may  Amt_aprl  prev_pay_sep  \\\n",
       "0      ...           41370     40694    39606     38680          2000   \n",
       "1      ...           32463     20621    13711      8294         12300   \n",
       "2      ...           18921     19297    18926     17717          1264   \n",
       "3      ...           60311     62471    21071      2099          3008   \n",
       "4      ...               0         0        0         0             0   \n",
       "\n",
       "   prev_pay_aug  prev_pay_july  prev_pay_june  prev_pay_may  prev_pay_aprl  \n",
       "0          1500           2000           1500          1500              0  \n",
       "1         32520             34             68          8334          45684  \n",
       "2          1249            625            700          1000           1000  \n",
       "3          3000           5000          10000          2099              0  \n",
       "4             0              0              0             0              0  \n",
       "\n",
       "[5 rows x 25 columns]"
      ]
     },
     "execution_count": 83,
     "metadata": {},
     "output_type": "execute_result"
    }
   ],
   "source": [
    "#Assigning col names\n",
    "da=pd.merge(data1,data2)\n",
    "data3=pd.merge(da,fdata)\n",
    "\n",
    "data3.columns = [\"Ref.N\",\"total_credit\",\"Gender\",\"Education\",\"Marital_status\",\"Age\",\"Sep2005_history\",\"Aug2005_history\",\"Behavior\",\"july2005_history\",\"june2005_history\",\"May2005_history\",\"April2005_history\",\"Amt_sep\",\"Amt_aug\",\"Amt_july\",\"Amt_june\",\"Amt_may\",\"Amt_aprl\",\"prev_pay_sep\",\"prev_pay_aug\",\"prev_pay_july\",\"prev_pay_june\",\"prev_pay_may\",\"prev_pay_aprl\"]\n",
    "data3.head()\n",
    "\n"
   ]
  },
  {
   "cell_type": "markdown",
   "metadata": {},
   "source": [
    "# EDA"
   ]
  },
  {
   "cell_type": "code",
   "execution_count": 84,
   "metadata": {},
   "outputs": [
    {
     "data": {
      "text/plain": [
       "(21600, 25)"
      ]
     },
     "execution_count": 84,
     "metadata": {},
     "output_type": "execute_result"
    }
   ],
   "source": [
    "data.shape\n"
   ]
  },
  {
   "cell_type": "code",
   "execution_count": 85,
   "metadata": {},
   "outputs": [
    {
     "data": {
      "text/plain": [
       "Ref.No    int64\n",
       "X1        int64\n",
       "X2        int64\n",
       "X3        int64\n",
       "X4        int64\n",
       "X5        int64\n",
       "X6        int64\n",
       "X7        int64\n",
       "Y         int64\n",
       "X8        int64\n",
       "X9        int64\n",
       "X10       int64\n",
       "X11       int64\n",
       "X12       int64\n",
       "X13       int64\n",
       "X14       int64\n",
       "X15       int64\n",
       "X16       int64\n",
       "X17       int64\n",
       "X18       int64\n",
       "X19       int64\n",
       "X20       int64\n",
       "X21       int64\n",
       "X22       int64\n",
       "X23       int64\n",
       "dtype: object"
      ]
     },
     "execution_count": 85,
     "metadata": {},
     "output_type": "execute_result"
    }
   ],
   "source": [
    "data.dtypes\n",
    "#every features is in int type."
   ]
  },
  {
   "cell_type": "code",
   "execution_count": 86,
   "metadata": {},
   "outputs": [
    {
     "name": "stdout",
     "output_type": "stream",
     "text": [
      "number of male customers : 13543\n"
     ]
    }
   ],
   "source": [
    "data3[data3.Gender==2]\n",
    "len(data3[data3.Gender==2])\n",
    "print('number of male customers : {0}'.format(len(data3[data3.Gender==2])))"
   ]
  },
  {
   "cell_type": "code",
   "execution_count": 88,
   "metadata": {},
   "outputs": [
    {
     "name": "stdout",
     "output_type": "stream",
     "text": [
      "number of female customers : 8057\n"
     ]
    }
   ],
   "source": [
    "data3[data3.Gender==1]\n",
    "len(data3[data3.Gender==1])\n",
    "print('number of female customers : {0}'.format(len(data3[data3.Gender==1])))"
   ]
  },
  {
   "cell_type": "code",
   "execution_count": 89,
   "metadata": {},
   "outputs": [
    {
     "name": "stdout",
     "output_type": "stream",
     "text": [
      "number of school graduated customers : 7627\n"
     ]
    }
   ],
   "source": [
    "data3[data3.Education==1]\n",
    "len(data3[data3.Education==1])\n",
    "print('number of school graduated customers : {0}'.format(len(data3[data3.Education==1])))"
   ]
  },
  {
   "cell_type": "code",
   "execution_count": 90,
   "metadata": {},
   "outputs": [
    {
     "name": "stdout",
     "output_type": "stream",
     "text": [
      "number of university graduated customers : 10211\n"
     ]
    }
   ],
   "source": [
    "data3[data3.Education==2]\n",
    "len(data3[data3.Education==2])\n",
    "print('number of university graduated customers : {0}'.format(len(data3[data3.Education==2])))"
   ]
  },
  {
   "cell_type": "code",
   "execution_count": 91,
   "metadata": {},
   "outputs": [
    {
     "name": "stdout",
     "output_type": "stream",
     "text": [
      "number of high school graduated customers : 3447\n"
     ]
    }
   ],
   "source": [
    "data3[data3.Education==3]\n",
    "len(data3[data3.Education==3])\n",
    "print('number of high school graduated customers : {0}'.format(len(data3[data3.Education==3])))"
   ]
  },
  {
   "cell_type": "code",
   "execution_count": 92,
   "metadata": {},
   "outputs": [
    {
     "data": {
      "text/plain": [
       "<matplotlib.axes._subplots.AxesSubplot at 0x1541b50ef28>"
      ]
     },
     "execution_count": 92,
     "metadata": {},
     "output_type": "execute_result"
    },
    {
     "data": {
      "image/png": "[encoded data removed]",
      "text/plain": [
       "<Figure size 432x288 with 1 Axes>"
      ]
     },
     "metadata": {
      "needs_background": "light"
     },
     "output_type": "display_data"
    }
   ],
   "source": [
    "#bar chart of gender\n",
    "data3.Gender.value_counts().plot(kind=\"bar\",rot = 0, title='Gender wise customer count')"
   ]
  },
  {
   "cell_type": "code",
   "execution_count": 93,
   "metadata": {},
   "outputs": [
    {
     "data": {
      "text/plain": [
       "<matplotlib.axes._subplots.AxesSubplot at 0x1541b6e7f98>"
      ]
     },
     "execution_count": 93,
     "metadata": {},
     "output_type": "execute_result"
    },
    {
     "data": {
      "image/png": "[encoded data removed]",
      "text/plain": [
       "<Figure size 432x288 with 1 Axes>"
      ]
     },
     "metadata": {
      "needs_background": "light"
     },
     "output_type": "display_data"
    }
   ],
   "source": [
    "#bar chart of Marital_status\n",
    "data3.Marital_status.value_counts().plot(kind=\"bar\",rot = 0, title='Marital_status wise customer count')"
   ]
  },
  {
   "cell_type": "code",
   "execution_count": 94,
   "metadata": {},
   "outputs": [
    {
     "data": {
      "text/plain": [
       "<matplotlib.axes._subplots.AxesSubplot at 0x1541b72eeb8>"
      ]
     },
     "execution_count": 94,
     "metadata": {},
     "output_type": "execute_result"
    },
    {
     "data": {
      "image/png": "[encoded data removed]",
      "text/plain": [
       "<Figure size 432x288 with 1 Axes>"
      ]
     },
     "metadata": {
      "needs_background": "light"
     },
     "output_type": "display_data"
    }
   ],
   "source": [
    "#bar chart of education\n",
    "data3.Education.value_counts().plot(kind=\"bar\",rot = 0, title='Education wise customer count')"
   ]
  },
  {
   "cell_type": "code",
   "execution_count": 95,
   "metadata": {},
   "outputs": [
    {
     "data": {
      "text/plain": [
       "<matplotlib.axes._subplots.AxesSubplot at 0x1541b79d208>"
      ]
     },
     "execution_count": 95,
     "metadata": {},
     "output_type": "execute_result"
    },
    {
     "data": {
      "image/png": "[encoded data removed]",
      "text/plain": [
       "<Figure size 432x288 with 1 Axes>"
      ]
     },
     "metadata": {
      "needs_background": "light"
     },
     "output_type": "display_data"
    }
   ],
   "source": [
    "data3.Age.plot(kind='hist', title='histogram for Age', color='green')"
   ]
  },
  {
   "cell_type": "code",
   "execution_count": 96,
   "metadata": {},
   "outputs": [
    {
     "data": {
      "text/plain": [
       "<matplotlib.axes._subplots.AxesSubplot at 0x1541d670e80>"
      ]
     },
     "execution_count": 96,
     "metadata": {},
     "output_type": "execute_result"
    },
    {
     "data": {
      "image/png": "[encoded data removed]",
      "text/plain": [
       "<Figure size 432x288 with 1 Axes>"
      ]
     },
     "metadata": {
      "needs_background": "light"
     },
     "output_type": "display_data"
    }
   ],
   "source": [
    "#to determine the out liers\n",
    "data3.total_credit.plot(kind='hist', title='histogram for total credit', color='green')"
   ]
  },
  {
   "cell_type": "code",
   "execution_count": 97,
   "metadata": {},
   "outputs": [
    {
     "data": {
      "image/png": "[encoded data removed]",
      "text/plain": [
       "<Figure size 432x288 with 1 Axes>"
      ]
     },
     "metadata": {
      "needs_background": "light"
     },
     "output_type": "display_data"
    }
   ],
   "source": [
    "# use scatter plot for bi-variate distribution\n",
    "data3.plot.scatter(x='Age', y='total_credit', color='c', title='scatter plot : Age vs total credit');"
   ]
  },
  {
   "cell_type": "markdown",
   "metadata": {},
   "source": [
    "## Grouping and aggregations"
   ]
  },
  {
   "cell_type": "code",
   "execution_count": 98,
   "metadata": {
    "scrolled": true
   },
   "outputs": [
    {
     "data": {
      "text/html": [
       "<div>\n",
       "<style scoped>\n",
       "    .dataframe tbody tr th:only-of-type {\n",
       "        vertical-align: middle;\n",
       "    }\n",
       "\n",
       "    .dataframe tbody tr th {\n",
       "        vertical-align: top;\n",
       "    }\n",
       "\n",
       "    .dataframe thead th {\n",
       "        text-align: right;\n",
       "    }\n",
       "</style>\n",
       "<table border=\"1\" class=\"dataframe\">\n",
       "  <thead>\n",
       "    <tr style=\"text-align: right;\">\n",
       "      <th>Behavior</th>\n",
       "      <th>0</th>\n",
       "      <th>1</th>\n",
       "    </tr>\n",
       "    <tr>\n",
       "      <th>Gender</th>\n",
       "      <th></th>\n",
       "      <th></th>\n",
       "    </tr>\n",
       "  </thead>\n",
       "  <tbody>\n",
       "    <tr>\n",
       "      <th>1</th>\n",
       "      <td>6086</td>\n",
       "      <td>1971</td>\n",
       "    </tr>\n",
       "    <tr>\n",
       "      <th>2</th>\n",
       "      <td>10680</td>\n",
       "      <td>2863</td>\n",
       "    </tr>\n",
       "  </tbody>\n",
       "</table>\n",
       "</div>"
      ],
      "text/plain": [
       "Behavior      0     1\n",
       "Gender               \n",
       "1          6086  1971\n",
       "2         10680  2863"
      ]
     },
     "execution_count": 98,
     "metadata": {},
     "output_type": "execute_result"
    }
   ],
   "source": [
    "# crosstab on Gender and Behavior\n",
    "pd.crosstab(data3.Gender, data3.Behavior)"
   ]
  },
  {
   "cell_type": "code",
   "execution_count": 99,
   "metadata": {},
   "outputs": [
    {
     "data": {
      "text/plain": [
       "<matplotlib.axes._subplots.AxesSubplot at 0x1541b658898>"
      ]
     },
     "execution_count": 99,
     "metadata": {},
     "output_type": "execute_result"
    },
    {
     "data": {
      "image/png": "[encoded data removed]",
      "text/plain": [
       "<Figure size 432x288 with 1 Axes>"
      ]
     },
     "metadata": {
      "needs_background": "light"
     },
     "output_type": "display_data"
    }
   ],
   "source": [
    "pd.crosstab(data3.Gender, data3.Behavior).plot(kind='bar')"
   ]
  },
  {
   "cell_type": "code",
   "execution_count": 100,
   "metadata": {},
   "outputs": [
    {
     "data": {
      "text/html": [
       "<div>\n",
       "<style scoped>\n",
       "    .dataframe tbody tr th:only-of-type {\n",
       "        vertical-align: middle;\n",
       "    }\n",
       "\n",
       "    .dataframe tbody tr th {\n",
       "        vertical-align: top;\n",
       "    }\n",
       "\n",
       "    .dataframe thead th {\n",
       "        text-align: right;\n",
       "    }\n",
       "</style>\n",
       "<table border=\"1\" class=\"dataframe\">\n",
       "  <thead>\n",
       "    <tr style=\"text-align: right;\">\n",
       "      <th>Behavior</th>\n",
       "      <th>0</th>\n",
       "      <th>1</th>\n",
       "    </tr>\n",
       "    <tr>\n",
       "      <th>Education</th>\n",
       "      <th></th>\n",
       "      <th></th>\n",
       "    </tr>\n",
       "  </thead>\n",
       "  <tbody>\n",
       "    <tr>\n",
       "      <th>0</th>\n",
       "      <td>9</td>\n",
       "      <td>0</td>\n",
       "    </tr>\n",
       "    <tr>\n",
       "      <th>1</th>\n",
       "      <td>6114</td>\n",
       "      <td>1513</td>\n",
       "    </tr>\n",
       "    <tr>\n",
       "      <th>2</th>\n",
       "      <td>7776</td>\n",
       "      <td>2435</td>\n",
       "    </tr>\n",
       "    <tr>\n",
       "      <th>3</th>\n",
       "      <td>2583</td>\n",
       "      <td>864</td>\n",
       "    </tr>\n",
       "    <tr>\n",
       "      <th>4</th>\n",
       "      <td>78</td>\n",
       "      <td>4</td>\n",
       "    </tr>\n",
       "    <tr>\n",
       "      <th>5</th>\n",
       "      <td>176</td>\n",
       "      <td>14</td>\n",
       "    </tr>\n",
       "    <tr>\n",
       "      <th>6</th>\n",
       "      <td>30</td>\n",
       "      <td>4</td>\n",
       "    </tr>\n",
       "  </tbody>\n",
       "</table>\n",
       "</div>"
      ],
      "text/plain": [
       "Behavior      0     1\n",
       "Education            \n",
       "0             9     0\n",
       "1          6114  1513\n",
       "2          7776  2435\n",
       "3          2583   864\n",
       "4            78     4\n",
       "5           176    14\n",
       "6            30     4"
      ]
     },
     "execution_count": 100,
     "metadata": {},
     "output_type": "execute_result"
    }
   ],
   "source": [
    "# crosstab on Education and Behavior\n",
    "pd.crosstab(data3.Education, data3.Behavior)"
   ]
  },
  {
   "cell_type": "code",
   "execution_count": 101,
   "metadata": {},
   "outputs": [
    {
     "data": {
      "text/plain": [
       "<matplotlib.axes._subplots.AxesSubplot at 0x1541bea1780>"
      ]
     },
     "execution_count": 101,
     "metadata": {},
     "output_type": "execute_result"
    },
    {
     "data": {
      "image/png": "[encoded data removed]",
      "text/plain": [
       "<Figure size 432x288 with 1 Axes>"
      ]
     },
     "metadata": {
      "needs_background": "light"
     },
     "output_type": "display_data"
    }
   ],
   "source": [
    "pd.crosstab(data3.Education, data3.Behavior).plot(kind='bar')"
   ]
  },
  {
   "cell_type": "code",
   "execution_count": 102,
   "metadata": {},
   "outputs": [
    {
     "data": {
      "text/plain": [
       "<matplotlib.axes._subplots.AxesSubplot at 0x1541bf2c978>"
      ]
     },
     "execution_count": 102,
     "metadata": {},
     "output_type": "execute_result"
    },
    {
     "data": {
      "image/png": "[encoded data removed]",
      "text/plain": [
       "<Figure size 432x288 with 1 Axes>"
      ]
     },
     "metadata": {
      "needs_background": "light"
     },
     "output_type": "display_data"
    }
   ],
   "source": [
    "pd.crosstab(data3.Marital_status, data3.Behavior).plot(kind='bar')"
   ]
  },
  {
   "cell_type": "code",
   "execution_count": 103,
   "metadata": {},
   "outputs": [
    {
     "data": {
      "image/png": "[encoded data removed]",
      "text/plain": [
       "<Figure size 432x288 with 1 Axes>"
      ]
     },
     "metadata": {
      "needs_background": "light"
     },
     "output_type": "display_data"
    }
   ],
   "source": [
    "data3.boxplot('total_credit','Gender');"
   ]
  },
  {
   "cell_type": "code",
   "execution_count": 104,
   "metadata": {},
   "outputs": [
    {
     "data": {
      "image/png": "[encoded data removed]",
      "text/plain": [
       "<Figure size 432x288 with 1 Axes>"
      ]
     },
     "metadata": {
      "needs_background": "light"
     },
     "output_type": "display_data"
    }
   ],
   "source": [
    "data3.boxplot('total_credit','Education');"
   ]
  },
  {
   "cell_type": "code",
   "execution_count": 105,
   "metadata": {},
   "outputs": [
    {
     "data": {
      "image/png": "[encoded data removed]",
      "text/plain": [
       "<Figure size 432x288 with 1 Axes>"
      ]
     },
     "metadata": {
      "needs_background": "light"
     },
     "output_type": "display_data"
    }
   ],
   "source": [
    "data3.boxplot('total_credit','Marital_status');"
   ]
  },
  {
   "cell_type": "code",
   "execution_count": 106,
   "metadata": {},
   "outputs": [
    {
     "name": "stderr",
     "output_type": "stream",
     "text": [
      "C:\\Users\\sreekar chidurala\\Anaconda3\\lib\\site-packages\\scipy\\stats\\stats.py:1713: FutureWarning: Using a non-tuple sequence for multidimensional indexing is deprecated; use `arr[tuple(seq)]` instead of `arr[seq]`. In the future this will be interpreted as an array index, `arr[np.array(seq)]`, which will result either in an error or a different result.\n",
      "  return np.add.reduce(sorted[indexer] * weights, axis=axis) / sumval\n"
     ]
    },
    {
     "data": {
      "image/png": "[encoded data removed]",
      "text/plain": [
       "<Figure size 916.375x216 with 1 Axes>"
      ]
     },
     "metadata": {
      "needs_background": "light"
     },
     "output_type": "display_data"
    }
   ],
   "source": [
    "\n",
    "facet = sns.FacetGrid(data3, hue=\"Behavior\",aspect=4)\n",
    "facet.map(sns.kdeplot,'Age',shade= True)\n",
    "facet.set(xlim=(0, data3['Age'].max()))\n",
    "facet.add_legend();\n",
    " \n"
   ]
  },
  {
   "cell_type": "code",
   "execution_count": 107,
   "metadata": {},
   "outputs": [
    {
     "name": "stderr",
     "output_type": "stream",
     "text": [
      "C:\\Users\\sreekar chidurala\\Anaconda3\\lib\\site-packages\\scipy\\stats\\stats.py:1713: FutureWarning: Using a non-tuple sequence for multidimensional indexing is deprecated; use `arr[tuple(seq)]` instead of `arr[seq]`. In the future this will be interpreted as an array index, `arr[np.array(seq)]`, which will result either in an error or a different result.\n",
      "  return np.add.reduce(sorted[indexer] * weights, axis=axis) / sumval\n"
     ]
    },
    {
     "data": {
      "image/png": "[encoded data removed]",
      "text/plain": [
       "<Figure size 916.375x216 with 1 Axes>"
      ]
     },
     "metadata": {
      "needs_background": "light"
     },
     "output_type": "display_data"
    }
   ],
   "source": [
    "facet = sns.FacetGrid(data3, hue=\"Behavior\",aspect=4)\n",
    "facet.map(sns.kdeplot,'total_credit',shade= True)\n",
    "facet.set(xlim=(0, data3['total_credit'].max()))\n",
    "facet.add_legend();\n",
    " "
   ]
  },
  {
   "cell_type": "code",
   "execution_count": 108,
   "metadata": {},
   "outputs": [
    {
     "name": "stderr",
     "output_type": "stream",
     "text": [
      "C:\\Users\\sreekar chidurala\\Anaconda3\\lib\\site-packages\\scipy\\stats\\stats.py:1713: FutureWarning: Using a non-tuple sequence for multidimensional indexing is deprecated; use `arr[tuple(seq)]` instead of `arr[seq]`. In the future this will be interpreted as an array index, `arr[np.array(seq)]`, which will result either in an error or a different result.\n",
      "  return np.add.reduce(sorted[indexer] * weights, axis=axis) / sumval\n"
     ]
    },
    {
     "data": {
      "image/png": "[encoded data removed]",
      "text/plain": [
       "<Figure size 916.375x216 with 1 Axes>"
      ]
     },
     "metadata": {
      "needs_background": "light"
     },
     "output_type": "display_data"
    }
   ],
   "source": [
    "facet = sns.FacetGrid(data3, hue=\"Behavior\",aspect=4)\n",
    "facet.map(sns.kdeplot,'Education',shade= True)\n",
    "facet.set(xlim=(0, data3['Education'].max()))\n",
    "facet.add_legend();"
   ]
  },
  {
   "cell_type": "markdown",
   "metadata": {},
   "source": [
    "# Model1:DecisionTree Classifier"
   ]
  },
  {
   "cell_type": "code",
   "execution_count": 109,
   "metadata": {},
   "outputs": [],
   "source": [
    "df = data.drop(labels = \"Ref.No\", axis = 1)\n"
   ]
  },
  {
   "cell_type": "code",
   "execution_count": 110,
   "metadata": {},
   "outputs": [
    {
     "data": {
      "text/html": [
       "<div>\n",
       "<style scoped>\n",
       "    .dataframe tbody tr th:only-of-type {\n",
       "        vertical-align: middle;\n",
       "    }\n",
       "\n",
       "    .dataframe tbody tr th {\n",
       "        vertical-align: top;\n",
       "    }\n",
       "\n",
       "    .dataframe thead th {\n",
       "        text-align: right;\n",
       "    }\n",
       "</style>\n",
       "<table border=\"1\" class=\"dataframe\">\n",
       "  <thead>\n",
       "    <tr style=\"text-align: right;\">\n",
       "      <th></th>\n",
       "      <th>X1</th>\n",
       "      <th>X2</th>\n",
       "      <th>X3</th>\n",
       "      <th>X4</th>\n",
       "      <th>X5</th>\n",
       "      <th>X6</th>\n",
       "      <th>X7</th>\n",
       "      <th>X8</th>\n",
       "      <th>X9</th>\n",
       "      <th>X10</th>\n",
       "      <th>...</th>\n",
       "      <th>X14</th>\n",
       "      <th>X15</th>\n",
       "      <th>X16</th>\n",
       "      <th>X17</th>\n",
       "      <th>X18</th>\n",
       "      <th>X19</th>\n",
       "      <th>X20</th>\n",
       "      <th>X21</th>\n",
       "      <th>X22</th>\n",
       "      <th>X23</th>\n",
       "    </tr>\n",
       "  </thead>\n",
       "  <tbody>\n",
       "    <tr>\n",
       "      <th>0</th>\n",
       "      <td>320000</td>\n",
       "      <td>2</td>\n",
       "      <td>1</td>\n",
       "      <td>2</td>\n",
       "      <td>27</td>\n",
       "      <td>1</td>\n",
       "      <td>2</td>\n",
       "      <td>2</td>\n",
       "      <td>2</td>\n",
       "      <td>2</td>\n",
       "      <td>...</td>\n",
       "      <td>41370</td>\n",
       "      <td>40694</td>\n",
       "      <td>39606</td>\n",
       "      <td>38680</td>\n",
       "      <td>2000</td>\n",
       "      <td>1500</td>\n",
       "      <td>2000</td>\n",
       "      <td>1500</td>\n",
       "      <td>1500</td>\n",
       "      <td>0</td>\n",
       "    </tr>\n",
       "    <tr>\n",
       "      <th>1</th>\n",
       "      <td>470000</td>\n",
       "      <td>1</td>\n",
       "      <td>2</td>\n",
       "      <td>1</td>\n",
       "      <td>41</td>\n",
       "      <td>-2</td>\n",
       "      <td>-2</td>\n",
       "      <td>-2</td>\n",
       "      <td>-2</td>\n",
       "      <td>-2</td>\n",
       "      <td>...</td>\n",
       "      <td>32463</td>\n",
       "      <td>20621</td>\n",
       "      <td>13711</td>\n",
       "      <td>8294</td>\n",
       "      <td>12300</td>\n",
       "      <td>32520</td>\n",
       "      <td>34</td>\n",
       "      <td>68</td>\n",
       "      <td>8334</td>\n",
       "      <td>45684</td>\n",
       "    </tr>\n",
       "    <tr>\n",
       "      <th>2</th>\n",
       "      <td>20000</td>\n",
       "      <td>1</td>\n",
       "      <td>2</td>\n",
       "      <td>2</td>\n",
       "      <td>25</td>\n",
       "      <td>1</td>\n",
       "      <td>2</td>\n",
       "      <td>0</td>\n",
       "      <td>0</td>\n",
       "      <td>0</td>\n",
       "      <td>...</td>\n",
       "      <td>18921</td>\n",
       "      <td>19297</td>\n",
       "      <td>18926</td>\n",
       "      <td>17717</td>\n",
       "      <td>1264</td>\n",
       "      <td>1249</td>\n",
       "      <td>625</td>\n",
       "      <td>700</td>\n",
       "      <td>1000</td>\n",
       "      <td>1000</td>\n",
       "    </tr>\n",
       "    <tr>\n",
       "      <th>3</th>\n",
       "      <td>80000</td>\n",
       "      <td>1</td>\n",
       "      <td>3</td>\n",
       "      <td>1</td>\n",
       "      <td>41</td>\n",
       "      <td>0</td>\n",
       "      <td>0</td>\n",
       "      <td>0</td>\n",
       "      <td>0</td>\n",
       "      <td>0</td>\n",
       "      <td>...</td>\n",
       "      <td>60311</td>\n",
       "      <td>62471</td>\n",
       "      <td>21071</td>\n",
       "      <td>2099</td>\n",
       "      <td>3008</td>\n",
       "      <td>3000</td>\n",
       "      <td>5000</td>\n",
       "      <td>10000</td>\n",
       "      <td>2099</td>\n",
       "      <td>0</td>\n",
       "    </tr>\n",
       "    <tr>\n",
       "      <th>4</th>\n",
       "      <td>30000</td>\n",
       "      <td>1</td>\n",
       "      <td>1</td>\n",
       "      <td>2</td>\n",
       "      <td>30</td>\n",
       "      <td>1</td>\n",
       "      <td>-2</td>\n",
       "      <td>-2</td>\n",
       "      <td>-2</td>\n",
       "      <td>-2</td>\n",
       "      <td>...</td>\n",
       "      <td>0</td>\n",
       "      <td>0</td>\n",
       "      <td>0</td>\n",
       "      <td>0</td>\n",
       "      <td>0</td>\n",
       "      <td>0</td>\n",
       "      <td>0</td>\n",
       "      <td>0</td>\n",
       "      <td>0</td>\n",
       "      <td>0</td>\n",
       "    </tr>\n",
       "  </tbody>\n",
       "</table>\n",
       "<p>5 rows × 23 columns</p>\n",
       "</div>"
      ],
      "text/plain": [
       "       X1  X2  X3  X4  X5  X6  X7  X8  X9  X10  ...      X14    X15    X16  \\\n",
       "0  320000   2   1   2  27   1   2   2   2    2  ...    41370  40694  39606   \n",
       "1  470000   1   2   1  41  -2  -2  -2  -2   -2  ...    32463  20621  13711   \n",
       "2   20000   1   2   2  25   1   2   0   0    0  ...    18921  19297  18926   \n",
       "3   80000   1   3   1  41   0   0   0   0    0  ...    60311  62471  21071   \n",
       "4   30000   1   1   2  30   1  -2  -2  -2   -2  ...        0      0      0   \n",
       "\n",
       "     X17    X18    X19   X20    X21   X22    X23  \n",
       "0  38680   2000   1500  2000   1500  1500      0  \n",
       "1   8294  12300  32520    34     68  8334  45684  \n",
       "2  17717   1264   1249   625    700  1000   1000  \n",
       "3   2099   3008   3000  5000  10000  2099      0  \n",
       "4      0      0      0     0      0     0      0  \n",
       "\n",
       "[5 rows x 23 columns]"
      ]
     },
     "execution_count": 110,
     "metadata": {},
     "output_type": "execute_result"
    }
   ],
   "source": [
    "df1=df.drop(labels= \"Y\" , axis = 1)\n",
    "df1.head()\n"
   ]
  },
  {
   "cell_type": "code",
   "execution_count": 111,
   "metadata": {},
   "outputs": [
    {
     "data": {
      "text/plain": [
       "0    1\n",
       "1    0\n",
       "2    0\n",
       "3    1\n",
       "4    1\n",
       "Name: Y, dtype: int64"
      ]
     },
     "execution_count": 111,
     "metadata": {},
     "output_type": "execute_result"
    }
   ],
   "source": [
    "#y_lables\n",
    "y_labels = data[\"Y\"]\n",
    "y_labels.head()"
   ]
  },
  {
   "cell_type": "code",
   "execution_count": 112,
   "metadata": {},
   "outputs": [
    {
     "data": {
      "text/html": [
       "<div>\n",
       "<style scoped>\n",
       "    .dataframe tbody tr th:only-of-type {\n",
       "        vertical-align: middle;\n",
       "    }\n",
       "\n",
       "    .dataframe tbody tr th {\n",
       "        vertical-align: top;\n",
       "    }\n",
       "\n",
       "    .dataframe thead th {\n",
       "        text-align: right;\n",
       "    }\n",
       "</style>\n",
       "<table border=\"1\" class=\"dataframe\">\n",
       "  <thead>\n",
       "    <tr style=\"text-align: right;\">\n",
       "      <th></th>\n",
       "      <th>X1</th>\n",
       "      <th>X2</th>\n",
       "      <th>X3</th>\n",
       "      <th>X4</th>\n",
       "      <th>X5</th>\n",
       "      <th>X6</th>\n",
       "      <th>X7</th>\n",
       "      <th>X8</th>\n",
       "      <th>X9</th>\n",
       "      <th>X10</th>\n",
       "      <th>...</th>\n",
       "      <th>X14</th>\n",
       "      <th>X15</th>\n",
       "      <th>X16</th>\n",
       "      <th>X17</th>\n",
       "      <th>X18</th>\n",
       "      <th>X19</th>\n",
       "      <th>X20</th>\n",
       "      <th>X21</th>\n",
       "      <th>X22</th>\n",
       "      <th>X23</th>\n",
       "    </tr>\n",
       "  </thead>\n",
       "  <tbody>\n",
       "    <tr>\n",
       "      <th>0</th>\n",
       "      <td>1.199622</td>\n",
       "      <td>0.771310</td>\n",
       "      <td>-1.082964</td>\n",
       "      <td>0.845402</td>\n",
       "      <td>-0.904582</td>\n",
       "      <td>0.890581</td>\n",
       "      <td>1.767277</td>\n",
       "      <td>1.791855</td>\n",
       "      <td>1.899712</td>\n",
       "      <td>1.981181</td>\n",
       "      <td>...</td>\n",
       "      <td>-0.069127</td>\n",
       "      <td>-0.022403</td>\n",
       "      <td>-0.002437</td>\n",
       "      <td>0.007249</td>\n",
       "      <td>-0.233854</td>\n",
       "      <td>-0.204441</td>\n",
       "      <td>-0.181426</td>\n",
       "      <td>-0.214096</td>\n",
       "      <td>-0.212969</td>\n",
       "      <td>-0.295981</td>\n",
       "    </tr>\n",
       "    <tr>\n",
       "      <th>1</th>\n",
       "      <td>2.362316</td>\n",
       "      <td>-1.296495</td>\n",
       "      <td>0.197247</td>\n",
       "      <td>-1.070322</td>\n",
       "      <td>0.606227</td>\n",
       "      <td>-1.773392</td>\n",
       "      <td>-1.560885</td>\n",
       "      <td>-1.530739</td>\n",
       "      <td>-1.532139</td>\n",
       "      <td>-1.534625</td>\n",
       "      <td>...</td>\n",
       "      <td>-0.199883</td>\n",
       "      <td>-0.341392</td>\n",
       "      <td>-0.432164</td>\n",
       "      <td>-0.507905</td>\n",
       "      <td>0.455076</td>\n",
       "      <td>1.288822</td>\n",
       "      <td>-0.301621</td>\n",
       "      <td>-0.308090</td>\n",
       "      <td>0.232078</td>\n",
       "      <td>2.310904</td>\n",
       "    </tr>\n",
       "    <tr>\n",
       "      <th>2</th>\n",
       "      <td>-1.125765</td>\n",
       "      <td>-1.296495</td>\n",
       "      <td>0.197247</td>\n",
       "      <td>0.845402</td>\n",
       "      <td>-1.120412</td>\n",
       "      <td>0.890581</td>\n",
       "      <td>1.767277</td>\n",
       "      <td>0.130558</td>\n",
       "      <td>0.183787</td>\n",
       "      <td>0.223278</td>\n",
       "      <td>...</td>\n",
       "      <td>-0.398682</td>\n",
       "      <td>-0.362433</td>\n",
       "      <td>-0.345621</td>\n",
       "      <td>-0.348151</td>\n",
       "      <td>-0.283083</td>\n",
       "      <td>-0.216524</td>\n",
       "      <td>-0.265489</td>\n",
       "      <td>-0.266606</td>\n",
       "      <td>-0.245531</td>\n",
       "      <td>-0.238918</td>\n",
       "    </tr>\n",
       "    <tr>\n",
       "      <th>3</th>\n",
       "      <td>-0.660688</td>\n",
       "      <td>-1.296495</td>\n",
       "      <td>1.477459</td>\n",
       "      <td>-1.070322</td>\n",
       "      <td>0.606227</td>\n",
       "      <td>0.002590</td>\n",
       "      <td>0.103196</td>\n",
       "      <td>0.130558</td>\n",
       "      <td>0.183787</td>\n",
       "      <td>0.223278</td>\n",
       "      <td>...</td>\n",
       "      <td>0.208930</td>\n",
       "      <td>0.323666</td>\n",
       "      <td>-0.310025</td>\n",
       "      <td>-0.612933</td>\n",
       "      <td>-0.166433</td>\n",
       "      <td>-0.132233</td>\n",
       "      <td>0.001985</td>\n",
       "      <td>0.343829</td>\n",
       "      <td>-0.173961</td>\n",
       "      <td>-0.295981</td>\n",
       "    </tr>\n",
       "    <tr>\n",
       "      <th>4</th>\n",
       "      <td>-1.048252</td>\n",
       "      <td>-1.296495</td>\n",
       "      <td>-1.082964</td>\n",
       "      <td>0.845402</td>\n",
       "      <td>-0.580837</td>\n",
       "      <td>0.890581</td>\n",
       "      <td>-1.560885</td>\n",
       "      <td>-1.530739</td>\n",
       "      <td>-1.532139</td>\n",
       "      <td>-1.534625</td>\n",
       "      <td>...</td>\n",
       "      <td>-0.676445</td>\n",
       "      <td>-0.669091</td>\n",
       "      <td>-0.659698</td>\n",
       "      <td>-0.648519</td>\n",
       "      <td>-0.367627</td>\n",
       "      <td>-0.276649</td>\n",
       "      <td>-0.303700</td>\n",
       "      <td>-0.312553</td>\n",
       "      <td>-0.310653</td>\n",
       "      <td>-0.295981</td>\n",
       "    </tr>\n",
       "  </tbody>\n",
       "</table>\n",
       "<p>5 rows × 23 columns</p>\n",
       "</div>"
      ],
      "text/plain": [
       "         X1        X2        X3        X4        X5        X6        X7  \\\n",
       "0  1.199622  0.771310 -1.082964  0.845402 -0.904582  0.890581  1.767277   \n",
       "1  2.362316 -1.296495  0.197247 -1.070322  0.606227 -1.773392 -1.560885   \n",
       "2 -1.125765 -1.296495  0.197247  0.845402 -1.120412  0.890581  1.767277   \n",
       "3 -0.660688 -1.296495  1.477459 -1.070322  0.606227  0.002590  0.103196   \n",
       "4 -1.048252 -1.296495 -1.082964  0.845402 -0.580837  0.890581 -1.560885   \n",
       "\n",
       "         X8        X9       X10    ...          X14       X15       X16  \\\n",
       "0  1.791855  1.899712  1.981181    ...    -0.069127 -0.022403 -0.002437   \n",
       "1 -1.530739 -1.532139 -1.534625    ...    -0.199883 -0.341392 -0.432164   \n",
       "2  0.130558  0.183787  0.223278    ...    -0.398682 -0.362433 -0.345621   \n",
       "3  0.130558  0.183787  0.223278    ...     0.208930  0.323666 -0.310025   \n",
       "4 -1.530739 -1.532139 -1.534625    ...    -0.676445 -0.669091 -0.659698   \n",
       "\n",
       "        X17       X18       X19       X20       X21       X22       X23  \n",
       "0  0.007249 -0.233854 -0.204441 -0.181426 -0.214096 -0.212969 -0.295981  \n",
       "1 -0.507905  0.455076  1.288822 -0.301621 -0.308090  0.232078  2.310904  \n",
       "2 -0.348151 -0.283083 -0.216524 -0.265489 -0.266606 -0.245531 -0.238918  \n",
       "3 -0.612933 -0.166433 -0.132233  0.001985  0.343829 -0.173961 -0.295981  \n",
       "4 -0.648519 -0.367627 -0.276649 -0.303700 -0.312553 -0.310653 -0.295981  \n",
       "\n",
       "[5 rows x 23 columns]"
      ]
     },
     "execution_count": 112,
     "metadata": {},
     "output_type": "execute_result"
    }
   ],
   "source": [
    "#Applying Z-score for table df1\n",
    "z_data= df1.apply(zscore)\n",
    "z_data.head()"
   ]
  },
  {
   "cell_type": "code",
   "execution_count": 113,
   "metadata": {},
   "outputs": [],
   "source": [
    "X = np.array(z_data)\n",
    "Y = np.array(y_labels)"
   ]
  },
  {
   "cell_type": "code",
   "execution_count": 132,
   "metadata": {},
   "outputs": [
    {
     "name": "stdout",
     "output_type": "stream",
     "text": [
      "0.8556018518518519\n"
     ]
    }
   ],
   "source": [
    "DTClassifier_1= DecisionTreeClassifier(max_depth=12, min_samples_split = 3, min_samples_leaf=5)\n",
    "DTClassifier_1.fit (X,Y)\n",
    "predicted_labels = DTClassifier_1.predict(X)\n",
    "accuracy_score_1 = accuracy_score(Y, predicted_labels)\n",
    "print(accuracy_score_1)"
   ]
  },
  {
   "cell_type": "code",
   "execution_count": 131,
   "metadata": {},
   "outputs": [
    {
     "name": "stdout",
     "output_type": "stream",
     "text": [
      "0.8985185185185185\n"
     ]
    }
   ],
   "source": [
    "DTClassifier_2= DecisionTreeClassifier (max_depth=20, min_samples_split = 5, min_samples_leaf=5)\n",
    "DTClassifier_2.fit (X,Y)\n",
    "predicted_labels = DTClassifier_2.predict(X)\n",
    "accuracy_score_2 = accuracy_score(Y, predicted_labels)\n",
    "print(accuracy_score_2)"
   ]
  },
  {
   "cell_type": "code",
   "execution_count": 118,
   "metadata": {},
   "outputs": [
    {
     "name": "stdout",
     "output_type": "stream",
     "text": [
      "0.9248611111111111\n"
     ]
    }
   ],
   "source": [
    "DTClassifier_3= DecisionTreeClassifier (max_depth=20, min_samples_split = 5,criterion='gini', min_samples_leaf=2)\n",
    "DTClassifier_3.fit (X,Y)\n",
    "predicted_labels = DTClassifier_3.predict(X)\n",
    "accuracy_score_3 = accuracy_score(Y, predicted_labels)\n",
    "print(accuracy_score_3)"
   ]
  },
  {
   "cell_type": "code",
   "execution_count": 119,
   "metadata": {},
   "outputs": [
    {
     "name": "stdout",
     "output_type": "stream",
     "text": [
      "0.972037037037037\n"
     ]
    }
   ],
   "source": [
    "DTClassifier_4 = DecisionTreeClassifier (max_depth=25,criterion='gini',min_samples_split = 3, random_state = 0)\n",
    "DTClassifier_4.fit (X,Y)\n",
    "predicted_labels = DTClassifier_4.predict(X)\n",
    "accuracy_score_4 = accuracy_score(Y, predicted_labels)\n",
    "print(accuracy_score_4)"
   ]
  },
  {
   "cell_type": "markdown",
   "metadata": {},
   "source": [
    "# the above best model can try on test data for responce"
   ]
  },
  {
   "cell_type": "code",
   "execution_count": 41,
   "metadata": {},
   "outputs": [
    {
     "data": {
      "text/html": [
       "<div>\n",
       "<style scoped>\n",
       "    .dataframe tbody tr th:only-of-type {\n",
       "        vertical-align: middle;\n",
       "    }\n",
       "\n",
       "    .dataframe tbody tr th {\n",
       "        vertical-align: top;\n",
       "    }\n",
       "\n",
       "    .dataframe thead th {\n",
       "        text-align: right;\n",
       "    }\n",
       "</style>\n",
       "<table border=\"1\" class=\"dataframe\">\n",
       "  <thead>\n",
       "    <tr style=\"text-align: right;\">\n",
       "      <th></th>\n",
       "      <th>Ref.No</th>\n",
       "      <th>X1</th>\n",
       "      <th>X2</th>\n",
       "      <th>X3</th>\n",
       "      <th>X4</th>\n",
       "      <th>X5</th>\n",
       "      <th>X6</th>\n",
       "      <th>X7</th>\n",
       "      <th>X8</th>\n",
       "      <th>X9</th>\n",
       "      <th>...</th>\n",
       "      <th>X15</th>\n",
       "      <th>X16</th>\n",
       "      <th>X17</th>\n",
       "      <th>X18</th>\n",
       "      <th>X19</th>\n",
       "      <th>X20</th>\n",
       "      <th>X21</th>\n",
       "      <th>X22</th>\n",
       "      <th>X23</th>\n",
       "      <th>Y</th>\n",
       "    </tr>\n",
       "  </thead>\n",
       "  <tbody>\n",
       "    <tr>\n",
       "      <th>0</th>\n",
       "      <td>17083</td>\n",
       "      <td>50000</td>\n",
       "      <td>2</td>\n",
       "      <td>1</td>\n",
       "      <td>2</td>\n",
       "      <td>25</td>\n",
       "      <td>0</td>\n",
       "      <td>0</td>\n",
       "      <td>0</td>\n",
       "      <td>0</td>\n",
       "      <td>...</td>\n",
       "      <td>38008</td>\n",
       "      <td>31898</td>\n",
       "      <td>20154</td>\n",
       "      <td>2000</td>\n",
       "      <td>5040</td>\n",
       "      <td>8034</td>\n",
       "      <td>3029</td>\n",
       "      <td>5000</td>\n",
       "      <td>49436</td>\n",
       "      <td>NaN</td>\n",
       "    </tr>\n",
       "    <tr>\n",
       "      <th>1</th>\n",
       "      <td>3494</td>\n",
       "      <td>120000</td>\n",
       "      <td>2</td>\n",
       "      <td>2</td>\n",
       "      <td>2</td>\n",
       "      <td>24</td>\n",
       "      <td>0</td>\n",
       "      <td>0</td>\n",
       "      <td>0</td>\n",
       "      <td>0</td>\n",
       "      <td>...</td>\n",
       "      <td>6761</td>\n",
       "      <td>7189</td>\n",
       "      <td>1087</td>\n",
       "      <td>1400</td>\n",
       "      <td>1000</td>\n",
       "      <td>0</td>\n",
       "      <td>1000</td>\n",
       "      <td>1087</td>\n",
       "      <td>801</td>\n",
       "      <td>NaN</td>\n",
       "    </tr>\n",
       "    <tr>\n",
       "      <th>2</th>\n",
       "      <td>21945</td>\n",
       "      <td>120000</td>\n",
       "      <td>2</td>\n",
       "      <td>2</td>\n",
       "      <td>2</td>\n",
       "      <td>27</td>\n",
       "      <td>1</td>\n",
       "      <td>-2</td>\n",
       "      <td>-1</td>\n",
       "      <td>-1</td>\n",
       "      <td>...</td>\n",
       "      <td>0</td>\n",
       "      <td>0</td>\n",
       "      <td>0</td>\n",
       "      <td>0</td>\n",
       "      <td>2382</td>\n",
       "      <td>0</td>\n",
       "      <td>0</td>\n",
       "      <td>0</td>\n",
       "      <td>0</td>\n",
       "      <td>NaN</td>\n",
       "    </tr>\n",
       "    <tr>\n",
       "      <th>3</th>\n",
       "      <td>3499</td>\n",
       "      <td>60000</td>\n",
       "      <td>1</td>\n",
       "      <td>1</td>\n",
       "      <td>2</td>\n",
       "      <td>28</td>\n",
       "      <td>0</td>\n",
       "      <td>-1</td>\n",
       "      <td>0</td>\n",
       "      <td>0</td>\n",
       "      <td>...</td>\n",
       "      <td>9900</td>\n",
       "      <td>310</td>\n",
       "      <td>160</td>\n",
       "      <td>6000</td>\n",
       "      <td>10000</td>\n",
       "      <td>900</td>\n",
       "      <td>310</td>\n",
       "      <td>0</td>\n",
       "      <td>3400</td>\n",
       "      <td>NaN</td>\n",
       "    </tr>\n",
       "    <tr>\n",
       "      <th>4</th>\n",
       "      <td>18973</td>\n",
       "      <td>100000</td>\n",
       "      <td>2</td>\n",
       "      <td>1</td>\n",
       "      <td>2</td>\n",
       "      <td>28</td>\n",
       "      <td>3</td>\n",
       "      <td>2</td>\n",
       "      <td>0</td>\n",
       "      <td>0</td>\n",
       "      <td>...</td>\n",
       "      <td>53407</td>\n",
       "      <td>51951</td>\n",
       "      <td>53195</td>\n",
       "      <td>0</td>\n",
       "      <td>1831</td>\n",
       "      <td>4339</td>\n",
       "      <td>0</td>\n",
       "      <td>2083</td>\n",
       "      <td>1939</td>\n",
       "      <td>NaN</td>\n",
       "    </tr>\n",
       "  </tbody>\n",
       "</table>\n",
       "<p>5 rows × 25 columns</p>\n",
       "</div>"
      ],
      "text/plain": [
       "   Ref.No      X1  X2  X3  X4  X5  X6  X7  X8  X9 ...    X15    X16    X17  \\\n",
       "0   17083   50000   2   1   2  25   0   0   0   0 ...  38008  31898  20154   \n",
       "1    3494  120000   2   2   2  24   0   0   0   0 ...   6761   7189   1087   \n",
       "2   21945  120000   2   2   2  27   1  -2  -1  -1 ...      0      0      0   \n",
       "3    3499   60000   1   1   2  28   0  -1   0   0 ...   9900    310    160   \n",
       "4   18973  100000   2   1   2  28   3   2   0   0 ...  53407  51951  53195   \n",
       "\n",
       "    X18    X19   X20   X21   X22    X23   Y  \n",
       "0  2000   5040  8034  3029  5000  49436 NaN  \n",
       "1  1400   1000     0  1000  1087    801 NaN  \n",
       "2     0   2382     0     0     0      0 NaN  \n",
       "3  6000  10000   900   310     0   3400 NaN  \n",
       "4     0   1831  4339     0  2083   1939 NaN  \n",
       "\n",
       "[5 rows x 25 columns]"
      ]
     },
     "execution_count": 41,
     "metadata": {},
     "output_type": "execute_result"
    }
   ],
   "source": [
    "test.head()"
   ]
  },
  {
   "cell_type": "code",
   "execution_count": 121,
   "metadata": {},
   "outputs": [
    {
     "data": {
      "text/html": [
       "<div>\n",
       "<style scoped>\n",
       "    .dataframe tbody tr th:only-of-type {\n",
       "        vertical-align: middle;\n",
       "    }\n",
       "\n",
       "    .dataframe tbody tr th {\n",
       "        vertical-align: top;\n",
       "    }\n",
       "\n",
       "    .dataframe thead th {\n",
       "        text-align: right;\n",
       "    }\n",
       "</style>\n",
       "<table border=\"1\" class=\"dataframe\">\n",
       "  <thead>\n",
       "    <tr style=\"text-align: right;\">\n",
       "      <th></th>\n",
       "      <th>X1</th>\n",
       "      <th>X2</th>\n",
       "      <th>X3</th>\n",
       "      <th>X4</th>\n",
       "      <th>X5</th>\n",
       "      <th>X6</th>\n",
       "      <th>X7</th>\n",
       "      <th>X8</th>\n",
       "      <th>X9</th>\n",
       "      <th>X10</th>\n",
       "      <th>...</th>\n",
       "      <th>X14</th>\n",
       "      <th>X15</th>\n",
       "      <th>X16</th>\n",
       "      <th>X17</th>\n",
       "      <th>X18</th>\n",
       "      <th>X19</th>\n",
       "      <th>X20</th>\n",
       "      <th>X21</th>\n",
       "      <th>X22</th>\n",
       "      <th>X23</th>\n",
       "    </tr>\n",
       "  </thead>\n",
       "  <tbody>\n",
       "    <tr>\n",
       "      <th>0</th>\n",
       "      <td>50000</td>\n",
       "      <td>2</td>\n",
       "      <td>1</td>\n",
       "      <td>2</td>\n",
       "      <td>25</td>\n",
       "      <td>0</td>\n",
       "      <td>0</td>\n",
       "      <td>0</td>\n",
       "      <td>0</td>\n",
       "      <td>0</td>\n",
       "      <td>...</td>\n",
       "      <td>40002</td>\n",
       "      <td>38008</td>\n",
       "      <td>31898</td>\n",
       "      <td>20154</td>\n",
       "      <td>2000</td>\n",
       "      <td>5040</td>\n",
       "      <td>8034</td>\n",
       "      <td>3029</td>\n",
       "      <td>5000</td>\n",
       "      <td>49436</td>\n",
       "    </tr>\n",
       "    <tr>\n",
       "      <th>1</th>\n",
       "      <td>120000</td>\n",
       "      <td>2</td>\n",
       "      <td>2</td>\n",
       "      <td>2</td>\n",
       "      <td>24</td>\n",
       "      <td>0</td>\n",
       "      <td>0</td>\n",
       "      <td>0</td>\n",
       "      <td>0</td>\n",
       "      <td>0</td>\n",
       "      <td>...</td>\n",
       "      <td>11761</td>\n",
       "      <td>6761</td>\n",
       "      <td>7189</td>\n",
       "      <td>1087</td>\n",
       "      <td>1400</td>\n",
       "      <td>1000</td>\n",
       "      <td>0</td>\n",
       "      <td>1000</td>\n",
       "      <td>1087</td>\n",
       "      <td>801</td>\n",
       "    </tr>\n",
       "    <tr>\n",
       "      <th>2</th>\n",
       "      <td>120000</td>\n",
       "      <td>2</td>\n",
       "      <td>2</td>\n",
       "      <td>2</td>\n",
       "      <td>27</td>\n",
       "      <td>1</td>\n",
       "      <td>-2</td>\n",
       "      <td>-1</td>\n",
       "      <td>-1</td>\n",
       "      <td>-2</td>\n",
       "      <td>...</td>\n",
       "      <td>2382</td>\n",
       "      <td>0</td>\n",
       "      <td>0</td>\n",
       "      <td>0</td>\n",
       "      <td>0</td>\n",
       "      <td>2382</td>\n",
       "      <td>0</td>\n",
       "      <td>0</td>\n",
       "      <td>0</td>\n",
       "      <td>0</td>\n",
       "    </tr>\n",
       "    <tr>\n",
       "      <th>3</th>\n",
       "      <td>60000</td>\n",
       "      <td>1</td>\n",
       "      <td>1</td>\n",
       "      <td>2</td>\n",
       "      <td>28</td>\n",
       "      <td>0</td>\n",
       "      <td>-1</td>\n",
       "      <td>0</td>\n",
       "      <td>0</td>\n",
       "      <td>-1</td>\n",
       "      <td>...</td>\n",
       "      <td>13421</td>\n",
       "      <td>9900</td>\n",
       "      <td>310</td>\n",
       "      <td>160</td>\n",
       "      <td>6000</td>\n",
       "      <td>10000</td>\n",
       "      <td>900</td>\n",
       "      <td>310</td>\n",
       "      <td>0</td>\n",
       "      <td>3400</td>\n",
       "    </tr>\n",
       "    <tr>\n",
       "      <th>4</th>\n",
       "      <td>100000</td>\n",
       "      <td>2</td>\n",
       "      <td>1</td>\n",
       "      <td>2</td>\n",
       "      <td>28</td>\n",
       "      <td>3</td>\n",
       "      <td>2</td>\n",
       "      <td>0</td>\n",
       "      <td>0</td>\n",
       "      <td>2</td>\n",
       "      <td>...</td>\n",
       "      <td>49899</td>\n",
       "      <td>53407</td>\n",
       "      <td>51951</td>\n",
       "      <td>53195</td>\n",
       "      <td>0</td>\n",
       "      <td>1831</td>\n",
       "      <td>4339</td>\n",
       "      <td>0</td>\n",
       "      <td>2083</td>\n",
       "      <td>1939</td>\n",
       "    </tr>\n",
       "  </tbody>\n",
       "</table>\n",
       "<p>5 rows × 23 columns</p>\n",
       "</div>"
      ],
      "text/plain": [
       "       X1  X2  X3  X4  X5  X6  X7  X8  X9  X10  ...      X14    X15    X16  \\\n",
       "0   50000   2   1   2  25   0   0   0   0    0  ...    40002  38008  31898   \n",
       "1  120000   2   2   2  24   0   0   0   0    0  ...    11761   6761   7189   \n",
       "2  120000   2   2   2  27   1  -2  -1  -1   -2  ...     2382      0      0   \n",
       "3   60000   1   1   2  28   0  -1   0   0   -1  ...    13421   9900    310   \n",
       "4  100000   2   1   2  28   3   2   0   0    2  ...    49899  53407  51951   \n",
       "\n",
       "     X17   X18    X19   X20   X21   X22    X23  \n",
       "0  20154  2000   5040  8034  3029  5000  49436  \n",
       "1   1087  1400   1000     0  1000  1087    801  \n",
       "2      0     0   2382     0     0     0      0  \n",
       "3    160  6000  10000   900   310     0   3400  \n",
       "4  53195     0   1831  4339     0  2083   1939  \n",
       "\n",
       "[5 rows x 23 columns]"
      ]
     },
     "execution_count": 121,
     "metadata": {},
     "output_type": "execute_result"
    }
   ],
   "source": [
    "#we need the relevent columns in the test data.\n",
    "test1 = test.drop(labels = [\"Ref.No\",\"Y\"],axis = 1)\n",
    "test1.head()"
   ]
  },
  {
   "cell_type": "markdown",
   "metadata": {},
   "source": [
    "###### Since the samples are unbalanced,we can use SMOTE library for better prediction."
   ]
  },
  {
   "cell_type": "code",
   "execution_count": 122,
   "metadata": {},
   "outputs": [
    {
     "data": {
      "text/html": [
       "<div>\n",
       "<style scoped>\n",
       "    .dataframe tbody tr th:only-of-type {\n",
       "        vertical-align: middle;\n",
       "    }\n",
       "\n",
       "    .dataframe tbody tr th {\n",
       "        vertical-align: top;\n",
       "    }\n",
       "\n",
       "    .dataframe thead th {\n",
       "        text-align: right;\n",
       "    }\n",
       "</style>\n",
       "<table border=\"1\" class=\"dataframe\">\n",
       "  <thead>\n",
       "    <tr style=\"text-align: right;\">\n",
       "      <th></th>\n",
       "      <th>X1</th>\n",
       "      <th>X2</th>\n",
       "      <th>X3</th>\n",
       "      <th>X4</th>\n",
       "      <th>X5</th>\n",
       "      <th>X6</th>\n",
       "      <th>X7</th>\n",
       "      <th>X8</th>\n",
       "      <th>X9</th>\n",
       "      <th>X10</th>\n",
       "      <th>...</th>\n",
       "      <th>X14</th>\n",
       "      <th>X15</th>\n",
       "      <th>X16</th>\n",
       "      <th>X17</th>\n",
       "      <th>X18</th>\n",
       "      <th>X19</th>\n",
       "      <th>X20</th>\n",
       "      <th>X21</th>\n",
       "      <th>X22</th>\n",
       "      <th>X23</th>\n",
       "    </tr>\n",
       "  </thead>\n",
       "  <tbody>\n",
       "    <tr>\n",
       "      <th>0</th>\n",
       "      <td>-0.905841</td>\n",
       "      <td>0.750244</td>\n",
       "      <td>-1.119057</td>\n",
       "      <td>0.87266</td>\n",
       "      <td>-1.113037</td>\n",
       "      <td>0.004933</td>\n",
       "      <td>0.099271</td>\n",
       "      <td>0.109695</td>\n",
       "      <td>0.160042</td>\n",
       "      <td>0.214357</td>\n",
       "      <td>...</td>\n",
       "      <td>-0.130507</td>\n",
       "      <td>-0.105122</td>\n",
       "      <td>-0.169515</td>\n",
       "      <td>-0.350304</td>\n",
       "      <td>-0.246512</td>\n",
       "      <td>-0.066375</td>\n",
       "      <td>0.225386</td>\n",
       "      <td>-0.138208</td>\n",
       "      <td>0.006607</td>\n",
       "      <td>2.382991</td>\n",
       "    </tr>\n",
       "    <tr>\n",
       "      <th>1</th>\n",
       "      <td>-0.367961</td>\n",
       "      <td>0.750244</td>\n",
       "      <td>0.180371</td>\n",
       "      <td>0.87266</td>\n",
       "      <td>-1.220432</td>\n",
       "      <td>0.004933</td>\n",
       "      <td>0.099271</td>\n",
       "      <td>0.109695</td>\n",
       "      <td>0.160042</td>\n",
       "      <td>0.214357</td>\n",
       "      <td>...</td>\n",
       "      <td>-0.540978</td>\n",
       "      <td>-0.591105</td>\n",
       "      <td>-0.574173</td>\n",
       "      <td>-0.664943</td>\n",
       "      <td>-0.283815</td>\n",
       "      <td>-0.258765</td>\n",
       "      <td>-0.368885</td>\n",
       "      <td>-0.318905</td>\n",
       "      <td>-0.263640</td>\n",
       "      <td>-0.237817</td>\n",
       "    </tr>\n",
       "    <tr>\n",
       "      <th>2</th>\n",
       "      <td>-0.367961</td>\n",
       "      <td>0.750244</td>\n",
       "      <td>0.180371</td>\n",
       "      <td>0.87266</td>\n",
       "      <td>-0.898246</td>\n",
       "      <td>0.915257</td>\n",
       "      <td>-1.583783</td>\n",
       "      <td>-0.720455</td>\n",
       "      <td>-0.691267</td>\n",
       "      <td>-1.555841</td>\n",
       "      <td>...</td>\n",
       "      <td>-0.677299</td>\n",
       "      <td>-0.696259</td>\n",
       "      <td>-0.691907</td>\n",
       "      <td>-0.682881</td>\n",
       "      <td>-0.370856</td>\n",
       "      <td>-0.192952</td>\n",
       "      <td>-0.368885</td>\n",
       "      <td>-0.407962</td>\n",
       "      <td>-0.338713</td>\n",
       "      <td>-0.280981</td>\n",
       "    </tr>\n",
       "    <tr>\n",
       "      <th>3</th>\n",
       "      <td>-0.829001</td>\n",
       "      <td>-1.332899</td>\n",
       "      <td>-1.119057</td>\n",
       "      <td>0.87266</td>\n",
       "      <td>-0.790850</td>\n",
       "      <td>0.004933</td>\n",
       "      <td>-0.742256</td>\n",
       "      <td>0.109695</td>\n",
       "      <td>0.160042</td>\n",
       "      <td>-0.670742</td>\n",
       "      <td>...</td>\n",
       "      <td>-0.516851</td>\n",
       "      <td>-0.542284</td>\n",
       "      <td>-0.686830</td>\n",
       "      <td>-0.680240</td>\n",
       "      <td>0.002174</td>\n",
       "      <td>0.169827</td>\n",
       "      <td>-0.302313</td>\n",
       "      <td>-0.380355</td>\n",
       "      <td>-0.338713</td>\n",
       "      <td>-0.097764</td>\n",
       "    </tr>\n",
       "    <tr>\n",
       "      <th>4</th>\n",
       "      <td>-0.521641</td>\n",
       "      <td>0.750244</td>\n",
       "      <td>-1.119057</td>\n",
       "      <td>0.87266</td>\n",
       "      <td>-0.790850</td>\n",
       "      <td>2.735906</td>\n",
       "      <td>1.782325</td>\n",
       "      <td>0.109695</td>\n",
       "      <td>0.160042</td>\n",
       "      <td>1.984555</td>\n",
       "      <td>...</td>\n",
       "      <td>0.013342</td>\n",
       "      <td>0.134377</td>\n",
       "      <td>0.158893</td>\n",
       "      <td>0.194930</td>\n",
       "      <td>-0.370856</td>\n",
       "      <td>-0.219192</td>\n",
       "      <td>-0.047931</td>\n",
       "      <td>-0.407962</td>\n",
       "      <td>-0.194852</td>\n",
       "      <td>-0.176493</td>\n",
       "    </tr>\n",
       "  </tbody>\n",
       "</table>\n",
       "<p>5 rows × 23 columns</p>\n",
       "</div>"
      ],
      "text/plain": [
       "         X1        X2        X3       X4        X5        X6        X7  \\\n",
       "0 -0.905841  0.750244 -1.119057  0.87266 -1.113037  0.004933  0.099271   \n",
       "1 -0.367961  0.750244  0.180371  0.87266 -1.220432  0.004933  0.099271   \n",
       "2 -0.367961  0.750244  0.180371  0.87266 -0.898246  0.915257 -1.583783   \n",
       "3 -0.829001 -1.332899 -1.119057  0.87266 -0.790850  0.004933 -0.742256   \n",
       "4 -0.521641  0.750244 -1.119057  0.87266 -0.790850  2.735906  1.782325   \n",
       "\n",
       "         X8        X9       X10    ...          X14       X15       X16  \\\n",
       "0  0.109695  0.160042  0.214357    ...    -0.130507 -0.105122 -0.169515   \n",
       "1  0.109695  0.160042  0.214357    ...    -0.540978 -0.591105 -0.574173   \n",
       "2 -0.720455 -0.691267 -1.555841    ...    -0.677299 -0.696259 -0.691907   \n",
       "3  0.109695  0.160042 -0.670742    ...    -0.516851 -0.542284 -0.686830   \n",
       "4  0.109695  0.160042  1.984555    ...     0.013342  0.134377  0.158893   \n",
       "\n",
       "        X17       X18       X19       X20       X21       X22       X23  \n",
       "0 -0.350304 -0.246512 -0.066375  0.225386 -0.138208  0.006607  2.382991  \n",
       "1 -0.664943 -0.283815 -0.258765 -0.368885 -0.318905 -0.263640 -0.237817  \n",
       "2 -0.682881 -0.370856 -0.192952 -0.368885 -0.407962 -0.338713 -0.280981  \n",
       "3 -0.680240  0.002174  0.169827 -0.302313 -0.380355 -0.338713 -0.097764  \n",
       "4  0.194930 -0.370856 -0.219192 -0.047931 -0.407962 -0.194852 -0.176493  \n",
       "\n",
       "[5 rows x 23 columns]"
      ]
     },
     "execution_count": 122,
     "metadata": {},
     "output_type": "execute_result"
    }
   ],
   "source": [
    "#Applying z_score for table test1\n",
    "test_z= test1.apply(zscore)\n",
    "test_z.head()"
   ]
  },
  {
   "cell_type": "code",
   "execution_count": 320,
   "metadata": {},
   "outputs": [],
   "source": [
    "#Predicting the Y values in test data set\n",
    "predicted_y_labels = DTClassifier_5.predict(test_z)\n"
   ]
  },
  {
   "cell_type": "code",
   "execution_count": 322,
   "metadata": {},
   "outputs": [
    {
     "data": {
      "text/html": [
       "<div>\n",
       "<style scoped>\n",
       "    .dataframe tbody tr th:only-of-type {\n",
       "        vertical-align: middle;\n",
       "    }\n",
       "\n",
       "    .dataframe tbody tr th {\n",
       "        vertical-align: top;\n",
       "    }\n",
       "\n",
       "    .dataframe thead th {\n",
       "        text-align: right;\n",
       "    }\n",
       "</style>\n",
       "<table border=\"1\" class=\"dataframe\">\n",
       "  <thead>\n",
       "    <tr style=\"text-align: right;\">\n",
       "      <th></th>\n",
       "      <th>Ref.No</th>\n",
       "      <th>Y</th>\n",
       "    </tr>\n",
       "  </thead>\n",
       "  <tbody>\n",
       "    <tr>\n",
       "      <th>0</th>\n",
       "      <td>1</td>\n",
       "      <td>0</td>\n",
       "    </tr>\n",
       "    <tr>\n",
       "      <th>1</th>\n",
       "      <td>2</td>\n",
       "      <td>0</td>\n",
       "    </tr>\n",
       "    <tr>\n",
       "      <th>2</th>\n",
       "      <td>3</td>\n",
       "      <td>0</td>\n",
       "    </tr>\n",
       "    <tr>\n",
       "      <th>3</th>\n",
       "      <td>4</td>\n",
       "      <td>0</td>\n",
       "    </tr>\n",
       "    <tr>\n",
       "      <th>4</th>\n",
       "      <td>5</td>\n",
       "      <td>0</td>\n",
       "    </tr>\n",
       "  </tbody>\n",
       "</table>\n",
       "</div>"
      ],
      "text/plain": [
       "   Ref.No  Y\n",
       "0       1  0\n",
       "1       2  0\n",
       "2       3  0\n",
       "3       4  0\n",
       "4       5  0"
      ]
     },
     "execution_count": 322,
     "metadata": {},
     "output_type": "execute_result"
    }
   ],
   "source": [
    "submission=pd.DataFrame(pd.read_csv(\"test.csv\")[\"Ref.No\"])\n",
    "for i in range(0,len(submission)):\n",
    "    submission[\"Ref.No\"][i] = i+1\n",
    "submission[\"Y\"]=predicted_y_labels\n",
    "submission.head()"
   ]
  },
  {
   "cell_type": "code",
   "execution_count": 323,
   "metadata": {},
   "outputs": [],
   "source": [
    "#for submission\n",
    "submission.to_csv('day3_n.csv', index=False)"
   ]
  },
  {
   "cell_type": "markdown",
   "metadata": {},
   "source": [
    "# Model2: KNN"
   ]
  },
  {
   "cell_type": "code",
   "execution_count": 277,
   "metadata": {},
   "outputs": [],
   "source": [
    "#k- nerest neighbours\n",
    "from sklearn.neighbors import KNeighborsClassifier\n",
    "from scipy.stats import zscore\n",
    "from sklearn.preprocessing import Imputer\n",
    "from sklearn.metrics import accuracy_score\n",
    "from sklearn import metrics"
   ]
  },
  {
   "cell_type": "code",
   "execution_count": 286,
   "metadata": {},
   "outputs": [],
   "source": [
    "NNH = KNeighborsClassifier(n_neighbors= 10 , weights = 'uniform', metric='euclidean',p=3)"
   ]
  },
  {
   "cell_type": "code",
   "execution_count": 287,
   "metadata": {},
   "outputs": [
    {
     "data": {
      "text/plain": [
       "KNeighborsClassifier(algorithm='auto', leaf_size=30, metric='minkowski',\n",
       "           metric_params=None, n_jobs=None, n_neighbors=21, p=2,\n",
       "           weights='uniform')"
      ]
     },
     "execution_count": 287,
     "metadata": {},
     "output_type": "execute_result"
    }
   ],
   "source": [
    "from sklearn.neighbors import KNeighborsClassifier\n",
    "NNH = KNeighborsClassifier(n_neighbors=21)\n",
    "NNH.fit(X,Y)"
   ]
  },
  {
   "cell_type": "code",
   "execution_count": 288,
   "metadata": {},
   "outputs": [
    {
     "name": "stdout",
     "output_type": "stream",
     "text": [
      "0.8183796296296296\n"
     ]
    }
   ],
   "source": [
    "predicted_labels = NNH.predict(X)\n",
    "accuracy_score_knn= accuracy_score(Y, predicted_labels)\n",
    "print(accuracy_score_knn)"
   ]
  },
  {
   "cell_type": "code",
   "execution_count": 289,
   "metadata": {},
   "outputs": [
    {
     "name": "stdout",
     "output_type": "stream",
     "text": [
      "0.8395833333333333\n"
     ]
    }
   ],
   "source": [
    "from sklearn.neighbors import KNeighborsClassifier\n",
    "NNH1 = KNeighborsClassifier(n_neighbors=5,leaf_size=50, metric='minkowski')\n",
    "NNH1.fit(X,Y)\n",
    "predicted_labels = NNH1.predict(X)\n",
    "accuracy_score_knn1= accuracy_score(Y, predicted_labels)\n",
    "print(accuracy_score_knn1)"
   ]
  },
  {
   "cell_type": "code",
   "execution_count": 282,
   "metadata": {},
   "outputs": [],
   "source": [
    "predicted_y_labels1 =NNH1.predict(test_z)"
   ]
  },
  {
   "cell_type": "code",
   "execution_count": 283,
   "metadata": {},
   "outputs": [
    {
     "data": {
      "text/html": [
       "<div>\n",
       "<style scoped>\n",
       "    .dataframe tbody tr th:only-of-type {\n",
       "        vertical-align: middle;\n",
       "    }\n",
       "\n",
       "    .dataframe tbody tr th {\n",
       "        vertical-align: top;\n",
       "    }\n",
       "\n",
       "    .dataframe thead th {\n",
       "        text-align: right;\n",
       "    }\n",
       "</style>\n",
       "<table border=\"1\" class=\"dataframe\">\n",
       "  <thead>\n",
       "    <tr style=\"text-align: right;\">\n",
       "      <th></th>\n",
       "      <th>Ref.No</th>\n",
       "      <th>Y</th>\n",
       "    </tr>\n",
       "  </thead>\n",
       "  <tbody>\n",
       "    <tr>\n",
       "      <th>0</th>\n",
       "      <td>1</td>\n",
       "      <td>0</td>\n",
       "    </tr>\n",
       "    <tr>\n",
       "      <th>1</th>\n",
       "      <td>2</td>\n",
       "      <td>0</td>\n",
       "    </tr>\n",
       "    <tr>\n",
       "      <th>2</th>\n",
       "      <td>3</td>\n",
       "      <td>0</td>\n",
       "    </tr>\n",
       "    <tr>\n",
       "      <th>3</th>\n",
       "      <td>4</td>\n",
       "      <td>0</td>\n",
       "    </tr>\n",
       "    <tr>\n",
       "      <th>4</th>\n",
       "      <td>5</td>\n",
       "      <td>1</td>\n",
       "    </tr>\n",
       "  </tbody>\n",
       "</table>\n",
       "</div>"
      ],
      "text/plain": [
       "   Ref.No  Y\n",
       "0       1  0\n",
       "1       2  0\n",
       "2       3  0\n",
       "3       4  0\n",
       "4       5  1"
      ]
     },
     "execution_count": 283,
     "metadata": {},
     "output_type": "execute_result"
    }
   ],
   "source": [
    "submission=pd.DataFrame(pd.read_csv(\"test.csv\")[\"Ref.No\"])\n",
    "for i in range(0,len(submission)):\n",
    "    submission[\"Ref.No\"][i] = i+1\n",
    "submission[\"Y\"]=predicted_y_labels1\n",
    "submission.head()"
   ]
  },
  {
   "cell_type": "code",
   "execution_count": 284,
   "metadata": {},
   "outputs": [],
   "source": [
    "submission.to_csv('day3_k.csv', index=False)"
   ]
  },
  {
   "cell_type": "markdown",
   "metadata": {},
   "source": [
    "##### when smote used"
   ]
  },
  {
   "cell_type": "code",
   "execution_count": 53,
   "metadata": {},
   "outputs": [],
   "source": [
    "from imblearn.over_sampling import SMOTE\n",
    "smote=SMOTE(ratio=1.0)\n",
    "X_sm,Y_sm=smote.fit_sample(X, Y)"
   ]
  },
  {
   "cell_type": "code",
   "execution_count": 54,
   "metadata": {},
   "outputs": [
    {
     "name": "stdout",
     "output_type": "stream",
     "text": [
      "0.8052314814814815\n"
     ]
    }
   ],
   "source": [
    "from sklearn.neighbors import KNeighborsClassifier\n",
    "NNH2 = KNeighborsClassifier(n_neighbors=5,leaf_size=50, metric='minkowski')\n",
    "NNH2.fit(X_sm,Y_sm)\n",
    "predicted_labels = NNH2.predict(X)\n",
    "accuracy_score_knn2= accuracy_score(Y, predicted_labels)\n",
    "print(accuracy_score_knn2)"
   ]
  },
  {
   "cell_type": "code",
   "execution_count": 55,
   "metadata": {},
   "outputs": [
    {
     "data": {
      "text/html": [
       "<div>\n",
       "<style scoped>\n",
       "    .dataframe tbody tr th:only-of-type {\n",
       "        vertical-align: middle;\n",
       "    }\n",
       "\n",
       "    .dataframe tbody tr th {\n",
       "        vertical-align: top;\n",
       "    }\n",
       "\n",
       "    .dataframe thead th {\n",
       "        text-align: right;\n",
       "    }\n",
       "</style>\n",
       "<table border=\"1\" class=\"dataframe\">\n",
       "  <thead>\n",
       "    <tr style=\"text-align: right;\">\n",
       "      <th></th>\n",
       "      <th>Ref.No</th>\n",
       "      <th>Y</th>\n",
       "    </tr>\n",
       "  </thead>\n",
       "  <tbody>\n",
       "    <tr>\n",
       "      <th>0</th>\n",
       "      <td>1</td>\n",
       "      <td>0</td>\n",
       "    </tr>\n",
       "    <tr>\n",
       "      <th>1</th>\n",
       "      <td>2</td>\n",
       "      <td>0</td>\n",
       "    </tr>\n",
       "    <tr>\n",
       "      <th>2</th>\n",
       "      <td>3</td>\n",
       "      <td>0</td>\n",
       "    </tr>\n",
       "    <tr>\n",
       "      <th>3</th>\n",
       "      <td>4</td>\n",
       "      <td>1</td>\n",
       "    </tr>\n",
       "    <tr>\n",
       "      <th>4</th>\n",
       "      <td>5</td>\n",
       "      <td>1</td>\n",
       "    </tr>\n",
       "  </tbody>\n",
       "</table>\n",
       "</div>"
      ],
      "text/plain": [
       "   Ref.No  Y\n",
       "0       1  0\n",
       "1       2  0\n",
       "2       3  0\n",
       "3       4  1\n",
       "4       5  1"
      ]
     },
     "execution_count": 55,
     "metadata": {},
     "output_type": "execute_result"
    }
   ],
   "source": [
    "predicted_y_labels2 =NNH2.predict(test_z)\n",
    "submission=pd.DataFrame(pd.read_csv(\"test.csv\")[\"Ref.No\"])\n",
    "for i in range(0,len(submission)):\n",
    "    submission[\"Ref.No\"][i] = i+1\n",
    "submission[\"Y\"]=predicted_y_labels2\n",
    "submission.head()\n"
   ]
  },
  {
   "cell_type": "markdown",
   "metadata": {},
   "source": [
    "#  Model3:LogisticRegression"
   ]
  },
  {
   "cell_type": "code",
   "execution_count": 331,
   "metadata": {},
   "outputs": [],
   "source": [
    "#imports\n",
    "import pandas as pd\n",
    "from sklearn.linear_model import LogisticRegression"
   ]
  },
  {
   "cell_type": "code",
   "execution_count": 333,
   "metadata": {},
   "outputs": [
    {
     "name": "stderr",
     "output_type": "stream",
     "text": [
      "C:\\Users\\sreekar chidurala\\Anaconda3\\lib\\site-packages\\sklearn\\linear_model\\logistic.py:432: FutureWarning: Default solver will be changed to 'lbfgs' in 0.22. Specify a solver to silence this warning.\n",
      "  FutureWarning)\n"
     ]
    },
    {
     "name": "stdout",
     "output_type": "stream",
     "text": [
      "0.8083796296296296\n"
     ]
    }
   ],
   "source": [
    "model = LogisticRegression()\n",
    "model.fit(X,Y)\n",
    "y_predict = model.predict(X)\n",
    "accuracy_score_lr1= accuracy_score(Y,y_predict)\n",
    "print(accuracy_score_lr1)"
   ]
  },
  {
   "cell_type": "markdown",
   "metadata": {},
   "source": [
    "## Validation"
   ]
  },
  {
   "cell_type": "code",
   "execution_count": 135,
   "metadata": {},
   "outputs": [
    {
     "data": {
      "text/plain": [
       "(21600, 25)"
      ]
     },
     "execution_count": 135,
     "metadata": {},
     "output_type": "execute_result"
    }
   ],
   "source": [
    "data.shape"
   ]
  },
  {
   "cell_type": "code",
   "execution_count": 136,
   "metadata": {},
   "outputs": [],
   "source": [
    "features = data[[\"X1\",\"X2\",\"X3\",\"X4\",\"X5\",\"X6\",\"X7\",\"X8\",\"X9\",\"X10\",\"X11\",\"X12\",\"X13\",\"X14\",\"X15\",\"X16\",\"X17\",\"X18\",\"X19\",\"X20\",\"X21\",\"X22\",\"X23\"]]\n",
    "\n",
    "\n",
    "label = np.array(data[\"Y\"])"
   ]
  },
  {
   "cell_type": "code",
   "execution_count": 137,
   "metadata": {},
   "outputs": [],
   "source": [
    "### Splitting data for training and test 80/20 for our Base Model - Logistic Regression\n",
    "from sklearn.model_selection import train_test_split\n",
    "\n",
    "X_train, X_test, y_train, y_test = train_test_split(features, label, test_size=0.2, random_state=0)"
   ]
  },
  {
   "cell_type": "code",
   "execution_count": 138,
   "metadata": {},
   "outputs": [
    {
     "data": {
      "text/plain": [
       "(17280, 23)"
      ]
     },
     "execution_count": 138,
     "metadata": {},
     "output_type": "execute_result"
    }
   ],
   "source": [
    "X_train.shape"
   ]
  },
  {
   "cell_type": "code",
   "execution_count": 139,
   "metadata": {},
   "outputs": [
    {
     "data": {
      "text/plain": [
       "(4320, 23)"
      ]
     },
     "execution_count": 139,
     "metadata": {},
     "output_type": "execute_result"
    }
   ],
   "source": [
    "X_test.shape"
   ]
  },
  {
   "cell_type": "code",
   "execution_count": 140,
   "metadata": {},
   "outputs": [
    {
     "data": {
      "text/plain": [
       "(17280,)"
      ]
     },
     "execution_count": 140,
     "metadata": {},
     "output_type": "execute_result"
    }
   ],
   "source": [
    "y_train.shape"
   ]
  },
  {
   "cell_type": "code",
   "execution_count": 141,
   "metadata": {},
   "outputs": [
    {
     "data": {
      "text/plain": [
       "(4320,)"
      ]
     },
     "execution_count": 141,
     "metadata": {},
     "output_type": "execute_result"
    }
   ],
   "source": [
    "y_test.shape"
   ]
  },
  {
   "cell_type": "markdown",
   "metadata": {},
   "source": [
    "## validation for DecisionTreeClassifier"
   ]
  },
  {
   "cell_type": "code",
   "execution_count": 318,
   "metadata": {},
   "outputs": [
    {
     "name": "stdout",
     "output_type": "stream",
     "text": [
      "0.8218171296296296\n"
     ]
    }
   ],
   "source": [
    "DTClassifier_5= DecisionTreeClassifier (max_depth=5, min_samples_split =3,criterion='gini',min_samples_leaf=9)\n",
    "DTClassifier_5.fit(X_train,y_train)\n",
    "predicted_labels = DTClassifier_5.predict(X_train)\n",
    "accuracy_score_4 = accuracy_score(y_train, predicted_labels)\n",
    "print(accuracy_score_4)"
   ]
  },
  {
   "cell_type": "code",
   "execution_count": 64,
   "metadata": {},
   "outputs": [],
   "source": [
    "#using this model,validating this in test"
   ]
  },
  {
   "cell_type": "code",
   "execution_count": 319,
   "metadata": {},
   "outputs": [
    {
     "name": "stdout",
     "output_type": "stream",
     "text": [
      "0.8206018518518519\n"
     ]
    }
   ],
   "source": [
    "#validation test score using DT\n",
    "predicted_labels = DTClassifier_5.predict(X_test)\n",
    "accuracy_score_5= accuracy_score(y_test, predicted_labels)\n",
    "print(accuracy_score_5)"
   ]
  },
  {
   "cell_type": "code",
   "execution_count": 315,
   "metadata": {},
   "outputs": [
    {
     "name": "stdout",
     "output_type": "stream",
     "text": [
      "0.8075462962962963\n"
     ]
    }
   ],
   "source": [
    "#score for training\n",
    "predicted_labels = DTClassifier_5.predict(X)\n",
    "accuracy_score_5= accuracy_score(Y, predicted_labels)\n",
    "print(accuracy_score_5)"
   ]
  },
  {
   "cell_type": "markdown",
   "metadata": {},
   "source": [
    "## we can use grid search method to know better p value or n_neighbour value\n",
    "#### for i in range(1,15,2):"
   ]
  },
  {
   "cell_type": "markdown",
   "metadata": {},
   "source": [
    "## validation for KNN"
   ]
  },
  {
   "cell_type": "code",
   "execution_count": 302,
   "metadata": {},
   "outputs": [
    {
     "name": "stdout",
     "output_type": "stream",
     "text": [
      "0.7784722222222222\n"
     ]
    }
   ],
   "source": [
    "#validation test score using KNN\n",
    "NNH3 = KNeighborsClassifier(n_neighbors= 2, weights = 'uniform',p=3)\n",
    "NNH3.fit(X_train,y_train)\n",
    "predicted_labels = NNH.predict(X_test)\n",
    "accuracy_score_knn3= accuracy_score(y_test, predicted_labels)\n",
    "print(accuracy_score_knn3)\n"
   ]
  },
  {
   "cell_type": "code",
   "execution_count": 303,
   "metadata": {},
   "outputs": [
    {
     "name": "stdout",
     "output_type": "stream",
     "text": [
      "0.7762037037037037\n"
     ]
    }
   ],
   "source": [
    "#validation training score\n",
    "predicted_labels = NNH3.predict(X)\n",
    "accuracy_score_knn4= accuracy_score(Y, predicted_labels)\n",
    "print(accuracy_score_knn4)\n"
   ]
  },
  {
   "cell_type": "markdown",
   "metadata": {},
   "source": [
    "# validation for LogisticRegression"
   ]
  },
  {
   "cell_type": "code",
   "execution_count": 324,
   "metadata": {},
   "outputs": [],
   "source": [
    "#imports\n",
    "import pandas as pd\n",
    "from sklearn.linear_model import LogisticRegression"
   ]
  },
  {
   "cell_type": "code",
   "execution_count": 328,
   "metadata": {},
   "outputs": [
    {
     "name": "stderr",
     "output_type": "stream",
     "text": [
      "C:\\Users\\sreekar chidurala\\Anaconda3\\lib\\site-packages\\sklearn\\linear_model\\logistic.py:432: FutureWarning: Default solver will be changed to 'lbfgs' in 0.22. Specify a solver to silence this warning.\n",
      "  FutureWarning)\n"
     ]
    },
    {
     "name": "stdout",
     "output_type": "stream",
     "text": [
      "0.7782407407407408\n"
     ]
    }
   ],
   "source": [
    "#test score\n",
    "model = LogisticRegression()\n",
    "model.fit(X_train, y_train)\n",
    "y_predict = model.predict(X_test)\n",
    "accuracy_score_lr= accuracy_score(y_test, y_predict)\n",
    "print(accuracy_score_lr)\n",
    "\n"
   ]
  },
  {
   "cell_type": "code",
   "execution_count": 330,
   "metadata": {},
   "outputs": [
    {
     "name": "stderr",
     "output_type": "stream",
     "text": [
      "C:\\Users\\sreekar chidurala\\Anaconda3\\lib\\site-packages\\sklearn\\linear_model\\logistic.py:432: FutureWarning: Default solver will be changed to 'lbfgs' in 0.22. Specify a solver to silence this warning.\n",
      "  FutureWarning)\n"
     ]
    },
    {
     "name": "stdout",
     "output_type": "stream",
     "text": [
      "0.8083796296296296\n"
     ]
    }
   ],
   "source": [
    "#train score\n",
    "model = LogisticRegression()\n",
    "model.fit(X,Y)\n",
    "y_predict = model.predict(X)\n",
    "accuracy_score_lr1= accuracy_score(Y, y_predict)\n",
    "print(accuracy_score_lr1)"
   ]
  },
  {
   "cell_type": "code",
   "execution_count": null,
   "metadata": {},
   "outputs": [],
   "source": []
  },
  {
   "cell_type": "code",
   "execution_count": null,
   "metadata": {},
   "outputs": [],
   "source": []
  },
  {
   "cell_type": "code",
   "execution_count": null,
   "metadata": {},
   "outputs": [],
   "source": []
  },
  {
   "cell_type": "code",
   "execution_count": null,
   "metadata": {},
   "outputs": [],
   "source": []
  },
  {
   "cell_type": "code",
   "execution_count": null,
   "metadata": {},
   "outputs": [],
   "source": []
  },
  {
   "cell_type": "code",
   "execution_count": null,
   "metadata": {},
   "outputs": [],
   "source": []
  },
  {
   "cell_type": "code",
   "execution_count": null,
   "metadata": {},
   "outputs": [],
   "source": []
  },
  {
   "cell_type": "code",
   "execution_count": null,
   "metadata": {},
   "outputs": [],
   "source": []
  },
  {
   "cell_type": "code",
   "execution_count": null,
   "metadata": {},
   "outputs": [],
   "source": []
  },
  {
   "cell_type": "code",
   "execution_count": null,
   "metadata": {},
   "outputs": [],
   "source": []
  }
 ],
 "metadata": {
  "kernelspec": {
   "display_name": "Python 3",
   "language": "python",
   "name": "python3"
  },
  "language_info": {
   "codemirror_mode": {
    "name": "ipython",
    "version": 3
   },
   "file_extension": ".py",
   "mimetype": "text/x-python",
   "name": "python",
   "nbconvert_exporter": "python",
   "pygments_lexer": "ipython3",
   "version": "3.7.0"
  }
 },
 "nbformat": 4,
 "nbformat_minor": 2
}
